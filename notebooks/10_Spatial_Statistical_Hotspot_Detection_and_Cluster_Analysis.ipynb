{
 "cells": [
  {
   "cell_type": "markdown",
   "metadata": {},
   "source": [
    "## 10: Spatial Statistical Hotspot Detection and Cluster Analysis\n",
    "\n",
    "**Goal:** To apply formal spatial statistics to identify statistically significant patterns in geographic data. We want to move beyond just visualizing data on a map to asking: \"Is this cluster of high values I see real, or could it have occurred by random chance?\"\n",
    "\n",
    "This notebook will cover:\n",
    "1.  **Spatial Weights Matrices:** The critical first step of defining \"who is a neighbor\" to whom.\n",
    "2.  **Global Spatial Autocorrelation (Moran's I):** Calculating a single statistic to test if the overall data pattern is clustered, dispersed, or random.\n",
    "3.  **Local Spatial Autocorrelation (LISA):** Identifying the specific locations of significant **hot spots** (clusters of high values), **cold spots** (clusters of low values), and **spatial outliers**.\n",
    "\n",
    "We will use the `esda` (Exploratory Spatial Data Analysis) library, part of the `PySAL` ecosystem."
   ]
  },
  {
   "cell_type": "markdown",
   "metadata": {},
   "source": [
    "### 1. Setup and Library Imports\n",
    "\n",
    "You will likely need to install `esda` and `libpysal`:\n",
    "`pip install esda libpysal`"
   ]
  },
  {
   "cell_type": "code",
   "execution_count": null,
   "metadata": {},
   "outputs": [],
   "source": [
    "import pandas as pd\n",
    "import geopandas as gpd\n",
    "import matplotlib.pyplot as plt\n",
    "import contextily as cx\n",
    "import esda\n",
    "from libpysal.weights import Queen"
   ]
  },
  {
   "cell_type": "markdown",
   "metadata": {},
   "source": [
    "### 2. Load Data\n",
    "\n",
    "We'll use the LSOA dataset from notebook 06 again. This time, we'll add a synthetic \"crime rate\" to each LSOA to have a variable to analyze."
   ]
  },
  {
   "cell_type": "code",
   "execution_count": null,
   "metadata": {},
   "outputs": [],
   "source": [
    "# Load LSOA data (using placeholder creation from notebook 06 if not available)\n",
    "try:\n",
    "    lsoa_gdf = gpd.read_file('data/LSOA_2021_Boundaries_Full_Clipped.shp')\n",
    "except Exception:\n",
    "    print(\"Could not load local LSOA data. Using a placeholder GeoDataFrame.\")\n",
    "    from shapely.geometry import box\n",
    "    import numpy as np\n",
    "    xmin, ymin, xmax, ymax = -3.58, 50.68, -3.42, 50.78\n",
    "    grid_cells = []\n",
    "    lsoa_codes = []\n",
    "    for i, x in enumerate(np.linspace(xmin, xmax, 15)):\n",
    "        for j, y in enumerate(np.linspace(ymin, ymax, 15)):\n",
    "            grid_cells.append(box(x, y, x + (xmax-xmin)/15, y + (ymax-ymin)/15))\n",
    "            lsoa_codes.append(f'E0101{i:02d}{j:02d}')\n",
    "    lsoa_gdf = gpd.GeoDataFrame({'LSOA21CD': lsoa_codes}, geometry=grid_cells, crs=\"EPSG:4326\")\n",
    "\n",
    "# Create a synthetic 'crime_rate' with a spatial pattern\n",
    "np.random.seed(123)\n",
    "lsoa_gdf['crime_rate'] = np.random.rand(len(lsoa_gdf)) * 50\n",
    "# Create a hotspot in the center\n",
    "center_x, center_y = lsoa_gdf.unary_union.centroid.coords[0]\n",
    "distances = lsoa_gdf.centroid.distance(lsoa_gdf.unary_union.centroid)\n",
    "lsoa_gdf['crime_rate'] += (1 - distances / distances.max()) * 100\n",
    "\n",
    "lsoa_gdf.head()"
   ]
  },
  {
   "cell_type": "markdown",
   "metadata": {},
   "source": [
    "### 3. Create Spatial Weights Matrix\n",
    "\n",
    "We need to define neighborhood relationships. **Queen Contiguity** is a common choice for polygons: two polygons are considered neighbors if they share at least one vertex (a corner or a side)."
   ]
  },
  {
   "cell_type": "code",
   "execution_count": null,
   "metadata": {},
   "outputs": [],
   "source": [
    "w = Queen.from_dataframe(lsoa_gdf)\n",
    "w.transform = 'r' # Row-standardize the weights\n",
    "\n",
    "print(f\"Created a Queen contiguity weights matrix.\")\n",
    "print(f\"Polygon 0 has {w.neighbors[0]} as neighbors.\")"
   ]
  },
  {
   "cell_type": "markdown",
   "metadata": {},
   "source": [
    "### 4. Global Spatial Autocorrelation (Moran's I)\n",
    "\n",
    "Moran's I tells us about the overall pattern. A positive value indicates clustering (high values near high values), a negative value indicates dispersion, and a value near zero indicates randomness.\n",
    "We test its statistical significance using a permutation test."
   ]
  },
  {
   "cell_type": "code",
   "execution_count": null,
   "metadata": {},
   "outputs": [],
   "source": [
    "y = lsoa_gdf['crime_rate']\n",
    "moran = esda.Moran(y, w)\n",
    "\n",
    "print(f\"Moran's I: {moran.I:.4f}\")\n",
    "print(f\"P-value: {moran.p_sim:.4f}\")\n",
    "\n",
    "# A low p-value (e.g., < 0.05) suggests that the observed spatial pattern is unlikely to be the result of random chance."
   ]
  },
  {
   "cell_type": "markdown",
   "metadata": {},
   "source": [
    "### 5. Local Spatial Autocorrelation (LISA)\n",
    "\n",
    "Now we drill down to find *where* the clusters are. LISA calculates a Moran's I value for each individual polygon, telling us how it relates to its neighbors."
   ]
  },
  {
   "cell_type": "code",
   "execution_count": null,
   "metadata": {},
   "outputs": [],
   "source": [
    "lisa = esda.Moran_Local(y, w)\n",
    "\n",
    "# Get the cluster classifications (1=HH, 2=LH, 3=LL, 4=HL)\n",
    "lsoa_gdf['lisa_q'] = lisa.q\n",
    "\n",
    "# Filter for only the significant clusters (p < 0.05)\n",
    "significant = lisa.p_sim < 0.05\n",
    "lsoa_gdf['lisa_sig'] = 'Not significant'\n",
    "lsoa_gdf.loc[significant & (lisa.q == 1), 'lisa_sig'] = 'High-High (Hot Spot)'\n",
    "lsoa_gdf.loc[significant & (lisa.q == 2), 'lisa_sig'] = 'Low-High (Spatial Outlier)'\n",
    "lsoa_gdf.loc[significant & (lisa.q == 3), 'lisa_sig'] = 'Low-Low (Cold Spot)'\n",
    "lsoa_gdf.loc[significant & (lisa.q == 4), 'lisa_sig'] = 'High-Low (Spatial Outlier)'\n",
    "\n",
    "print(\"LISA results added to GeoDataFrame:\")\n",
    "lsoa_gdf['lisa_sig'].value_counts()"
   ]
  },
  {
   "cell_type": "markdown",
   "metadata": {},
   "source": [
    "### 6. Visualize the Hotspot Map"
   ]
  },
  {
   "cell_type": "code",
   "execution_count": null,
   "metadata": {},
   "outputs": [],
   "source": [
    "# Project for plotting\n",
    "lsoa_plot = lsoa_gdf.to_crs(epsg=3857)\n",
    "\n",
    "fig, ax = plt.subplots(figsize=(15, 12))\n",
    "\n",
    "lisa_colors = {\n",
    "    'Not significant': 'lightgrey',\n",
    "    'High-High (Hot Spot)': 'red',\n",
    "    'Low-Low (Cold Spot)': 'blue',\n",
    "    'Low-High (Spatial Outlier)': 'skyblue',\n",
    "    'High-Low (Spatial Outlier)': 'pink'\n",
    "}\n",
    "\n",
    "lsoa_plot.plot(\n",
    "    column='lisa_sig',\n",
    "    categorical=True,\n",
    "    k=len(lisa_colors),\n",
    "    cmap=plt.matplotlib.colors.ListedColormap(list(lisa_colors.values())),\n",
    "    linewidth=0.5,\n",
    "    ax=ax,\n",
    "    edgecolor='white',\n",
    "    legend=True,\n",
    "    legend_kwds={'title': 'LISA Cluster Type'}\n",
    ")\n",
    "\n",
    "ax.set_title('Local Spatial Autocorrelation (LISA) of Crime Rate')\n",
    "ax.set_xticks([])\n",
    "ax.set_yticks([])\n",
    "cx.add_basemap(ax, source=cx.providers.CartoDB.Positron)\n",
    "plt.show()\n",
    "\n",
    "# Discussion:\n",
    "# - The red areas are 'Hot Spots': locations with high crime rates that are also surrounded by other locations with high crime rates.\n",
    "# - The blue areas are 'Cold Spots': locations with low crime rates surrounded by other low-crime locations.\n",
    "# - Spatial outliers (if any) would represent anomalies, like a low-crime area surrounded by high-crime neighbors.\n",
    "# - Most importantly, these are *statistically significant* patterns, giving us confidence that they are not just random noise."
   ]
  }
 ],
 "metadata": {
  "kernelspec": {
   "display_name": "Python 3",
   "language": "python",
   "name": "python3"
  },
  "language_info": {
   "codemirror_mode": {
    "name": "ipython",
    "version": 3
   },
   "file_extension": ".py",
   "mimetype": "text/x-python",
   "name": "python",
   "nbconvert_exporter": "python",
   "pygments_lexer": "ipython3",
   "version": "3.10.9"
  }
 },
 "nbformat": 4,
 "nbformat_minor": 4
}
