{
 "cells": [
  {
   "cell_type": "markdown",
   "metadata": {},
   "source": [
    "## 07: Interactive Facility Scenario Explorer\n",
    "\n",
    "**Goal:** To create a simple, user-driven tool for exploring \"what-if\" scenarios in facility planning. Static maps are useful, but interactive tools allow stakeholders to get immediate feedback on their ideas.\n",
    "\n",
    "**Methodology:**\n",
    "1.  Use `ipywidgets` and `ipyleaflet` to create an interactive map directly within Jupyter.\n",
    "2.  Display existing facilities and a set of demand points.\n",
    "3.  Allow a user to **click on the map to propose a new facility location**.\n",
    "4.  Dynamically recalculate which demand points would be served by this new facility and update the map instantly."
   ]
  },
  {
   "cell_type": "markdown",
   "metadata": {},
   "source": [
    "### 1. Setup and Library Imports\n",
    "\n",
    "**Important:** If you haven't already, you will need to install these libraries and enable the notebook extension. Run these commands in your terminal (with your `spatial-ml-env` activated), and then **restart the Jupyter kernel**.\n",
    "\n",
    "```bash\n",
    "pip install ipywidgets ipyleaflet\n",
    "jupyter nbextension enable --py widgetsnbextension\n",
    "```"
   ]
  },
  {
   "cell_type": "code",
   "execution_count": 1,
   "metadata": {},
   "outputs": [],
   "source": [
    "import pandas as pd\n",
    "import geopandas as gpd\n",
    "import numpy as np\n",
    "from shapely.geometry import Point\n",
    "from ipyleaflet import Map, Marker, GeoData, basemaps\n",
    "import ipywidgets as widgets\n",
    "from IPython.display import display\n",
    "import matplotlib.cm as cm\n",
    "import matplotlib.colors as colors"
   ]
  },
  {
   "cell_type": "markdown",
   "metadata": {},
   "source": [
    "### 2. Create Synthetic Data\n",
    "\n",
    "We'll generate a set of existing facilities and a grid of demand points representing residential areas."
   ]
  },
  {
   "cell_type": "code",
   "execution_count": 2,
   "metadata": {},
   "outputs": [],
   "source": [
    "np.random.seed(123)\n",
    "\n",
    "# Existing facilities that will be present at the start\n",
    "existing_facilities = gpd.GeoDataFrame(\n",
    "    {'name': ['Existing Site A', 'Existing Site B']},\n",
    "    geometry=[Point(-1.85, 51.56), Point(-1.75, 51.58)],\n",
    "    crs=\"EPSG:4326\"\n",
    ")\n",
    "\n",
    "# A grid of demand points\n",
    "xx, yy = np.meshgrid(np.linspace(-1.9, -1.7, 10), np.linspace(51.55, 51.6, 10))\n",
    "demand_points = gpd.GeoDataFrame(\n",
    "    geometry=[Point(x, y) for x, y in zip(xx.ravel(), yy.ravel())],\n",
    "    crs=\"EPSG:4326\"\n",
    ")\n",
    "demand_points['id'] = range(len(demand_points))\n",
    "\n",
    "# This dataframe will hold the current state (existing + proposed sites)\n",
    "# We reset it to a copy of the original facilities when the reset button is pressed.\n",
    "all_facilities = existing_facilities.copy()"
   ]
  },
  {
   "cell_type": "markdown",
   "metadata": {},
   "source": [
    "### 3. Core Logic: Allocate Demand and Create Map Layers\n",
    "\n",
    "This function takes the current set of facilities and demand points, calculates allocations, and prepares the data for display on the interactive map."
   ]
  },
  {
   "cell_type": "code",
   "execution_count": 3,
   "metadata": {},
   "outputs": [],
   "source": [
    "def allocate_demand_and_get_layers(facilities_gdf, demand_gdf):\n",
    "    \"\"\"Calculates which facility serves each demand point and prepares layers for the map.\"\"\"\n",
    "    # If there are no facilities, color all demand points as unserved\n",
    "    if facilities_gdf.empty:\n",
    "        demand_gdf['color'] = 'gray'\n",
    "        demand_layer = GeoData(geo_dataframe=demand_gdf, \n",
    "                               point_style={'radius': 5, 'color': 'gray', 'weight': 1, 'fillOpacity': 0.7},\n",
    "                               name='Unserved Demand')\n",
    "        return [demand_layer], []\n",
    "\n",
    "    # Project to a meter-based CRS for accurate distance calculation\n",
    "    facilities_proj = facilities_gdf.to_crs(epsg=32630)\n",
    "    demand_proj = demand_gdf.to_crs(epsg=32630)\n",
    "\n",
    "    # For each demand point, find the nearest facility\n",
    "    allocations = []\n",
    "    for idx, demand_point in demand_proj.iterrows():\n",
    "        distances = facilities_proj.distance(demand_point.geometry)\n",
    "        closest_idx = distances.idxmin()\n",
    "        allocations.append(closest_idx)\n",
    "    \n",
    "    demand_proj['allocated_to_idx'] = allocations\n",
    "\n",
    "    # Create a consistent color map for the facilities\n",
    "    unique_facility_indices = sorted(demand_proj['allocated_to_idx'].unique())\n",
    "    color_map = {fac_idx: colors.to_hex(cm.tab10(i)) for i, fac_idx in enumerate(unique_facility_indices)}\n",
    "    demand_proj['color'] = demand_proj['allocated_to_idx'].map(color_map)\n",
    "\n",
    "    # Convert back to WGS84 for ipyleaflet display\n",
    "    demand_final = demand_proj.to_crs(epsg=4326)\n",
    "\n",
    "    # Create map layers\n",
    "    demand_layer = GeoData(geo_dataframe=demand_final, \n",
    "                           point_style={'radius': 5, 'weight': 0.5},\n",
    "                           style_callback=lambda feat: {'fillColor': feat['properties']['color'], 'color': feat['properties']['color'], 'fillOpacity': 0.8},\n",
    "                           name='Demand')\n",
    "    \n",
    "    facility_markers = [Marker(location=(g.y, g.x), draggable=False, title=name) \n",
    "                        for g, name in zip(facilities_gdf.geometry, facilities_gdf.name)]\n",
    "    \n",
    "    return [demand_layer], facility_markers"
   ]
  },
  {
   "cell_type": "markdown",
   "metadata": {},
   "source": [
    "### 4. Build the Interactive Map\n",
    "\n",
    "This is where we tie everything together. We define functions to handle map updates and user clicks, then wire them up to the map and button widgets."
   ]
  },
  {
   "cell_type": "code",
   "execution_count": 4,
   "metadata": {},
   "outputs": [
    {
     "data": {
      "application/vnd.jupyter.widget-view+json": {
       "model_id": "48f60825b36246979f0d3ae34fce3c78",
       "version_major": 2,
       "version_minor": 0
      },
      "text/plain": [
       "VBox(children=(HTML(value='<h3>Click on the map to add a new facility</h3>'), Map(center=[51.575, -1.82], cont…"
      ]
     },
     "metadata": {},
     "output_type": "display_data"
    }
   ],
   "source": [
    "# Initialize map centered on our area of interest\n",
    "m = Map(center=(51.575, -1.82), zoom=12, basemap=basemaps.CartoDB.Positron)\n",
    "\n",
    "# Create an output widget for logs\n",
    "out = widgets.Output(layout={'border': '1px solid black'})\n",
    "\n",
    "# --- Map Update Function ---\n",
    "def update_map():\n",
    "    \"\"\"A robust function to clear all data layers and redraw from the current state.\"\"\"\n",
    "    # It's crucial to remove old layers before adding new ones.\n",
    "    # We iterate over a copy of the layers list because we are modifying it.\n",
    "    # The first layer (m.layers[0]) is the basemap, which we don't want to remove.\n",
    "    layers_to_remove = list(m.layers[1:])\n",
    "    for layer in layers_to_remove:\n",
    "        m.remove_layer(layer)\n",
    "    \n",
    "    # Get new layers based on the current state of the 'all_facilities' dataframe\n",
    "    [demand_layer], facility_markers = allocate_demand_and_get_layers(all_facilities, demand_points)\n",
    "    \n",
    "    # Add the newly generated layers to the map\n",
    "    m.add_layer(demand_layer)\n",
    "    for marker in facility_markers:\n",
    "        m.add_layer(marker)\n",
    "\n",
    "# --- Click Handler Function ---\n",
    "def handle_interaction(**kwargs):\n",
    "    \"\"\"This function is called every time the user clicks on the map.\"\"\"\n",
    "    global all_facilities\n",
    "    if kwargs.get('type') == 'click':\n",
    "        coords = kwargs.get('coordinates')\n",
    "        lat, lon = coords[0], coords[1]\n",
    "        \n",
    "        # Create a new facility and add it to our main dataframe\n",
    "        new_name = f\"Proposed Site {len(all_facilities) - len(existing_facilities) + 1}\"\n",
    "        new_facility = gpd.GeoDataFrame(\n",
    "            {'name': [new_name]},\n",
    "            geometry=[Point(lon, lat)], # GeoDataFrame uses (lon, lat)\n",
    "            crs=\"EPSG:4326\"\n",
    "        )\n",
    "        all_facilities = pd.concat([all_facilities, new_facility], ignore_index=True)\n",
    "        \n",
    "        # Log the action and update the map\n",
    "        with out:\n",
    "            out.clear_output()\n",
    "            print(f\"Adding new facility '{new_name}' at (Lat: {lat:.4f}, Lon: {lon:.4f})\")\n",
    "        update_map()\n",
    "\n",
    "# --- Reset Button ---\n",
    "reset_button = widgets.Button(description=\"Reset Scenario\")\n",
    "def on_reset_button_clicked(b):\n",
    "    global all_facilities\n",
    "    with out:\n",
    "        out.clear_output()\n",
    "        print(\"Resetting to initial state.\")\n",
    "    all_facilities = existing_facilities.copy()\n",
    "    update_map()\n",
    "reset_button.on_click(on_reset_button_clicked)\n",
    "\n",
    "# --- Final Assembly ---\n",
    "# Attach the click handler to the map\n",
    "m.on_interaction(handle_interaction)\n",
    "\n",
    "# Draw the initial map state before displaying\n",
    "update_map()\n",
    "\n",
    "# Display the final layout\n",
    "display(widgets.VBox([widgets.HTML(\"<h3>Click on the map to add a new facility</h3>\"), m, reset_button, out]))"
   ]
  },
  {
   "cell_type": "markdown",
   "metadata": {},
   "source": [
    "### 5. How to Use\n",
    "\n",
    "1.  Run all the cells above.\n",
    "2.  The map will display showing the initial state: two existing facilities and the demand points colored according to which of the two is closer.\n",
    "3.  **Click anywhere on the map.** A new white marker will appear, representing a proposed facility.\n",
    "4.  The colors of the demand points will instantly update, showing the new catchment areas. You can see how many demand points are now served by your proposed site.\n",
    "5.  Click the **Reset Scenario** button to remove all proposed sites and return to the initial state."
   ]
  }
 ],
 "metadata": {
  "kernelspec": {
   "display_name": "Python 3 (ipykernel)",
   "language": "python",
   "name": "python3"
  },
  "language_info": {
   "codemirror_mode": {
    "name": "ipython",
    "version": 3
   },
   "file_extension": ".py",
   "mimetype": "text/x-python",
   "name": "python",
   "nbconvert_exporter": "python",
   "pygments_lexer": "ipython3",
   "version": "3.10.18"
  }
 },
 "nbformat": 4,
 "nbformat_minor": 4
}
