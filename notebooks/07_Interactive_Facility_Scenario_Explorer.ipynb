{
 "cells": [
  {
   "cell_type": "markdown",
   "metadata": {},
   "source": [
    "## 07: Interactive Facility Scenario Explorer\n",
    "\n",
    "**Goal:** To create a simple, user-driven tool for exploring \"what-if\" scenarios in facility planning. Static maps are useful, but interactive tools allow stakeholders to get immediate feedback on their ideas.\n",
    "\n",
    "This notebook demonstrates how to:\n",
    "1.  Use `ipywidgets` and `ipyleaflet` to create an interactive map directly within Jupyter.\n",
    "2.  Display existing facilities and a set of demand points.\n",
    "3.  Allow a user to **click on the map to propose a new facility location**.\n",
    "4.  Dynamically recalculate which demand points would be served by this new facility and update the map instantly."
   ]
  },
  {
   "cell_type": "markdown",
   "metadata": {},
   "source": [
    "### 1. Setup and Library Imports\n",
    "\n",
    "You might need to install these libraries first:\n",
    "`pip install ipywidgets ipyleaflet`\n",
    "Then, enable the extension:\n",
    "`jupyter nbextension enable --py widgetsnbextension`"
   ]
  },
  {
   "cell_type": "code",
   "execution_count": null,
   "metadata": {},
   "outputs": [],
   "source": [
    "import pandas as pd\n",
    "import geopandas as gpd\n",
    "import numpy as np\n",
    "from shapely.geometry import Point\n",
    "from ipyleaflet import Map, Marker, GeoData, basemaps, LayersControl\n",
    "import ipywidgets as widgets\n",
    "from IPython.display import display\n",
    "\n",
    "# Helper function for styling GeoData layers\n",
    "def style_layer(feature, **kwargs):\n",
    "    return {'color': 'black', 'weight': 1, 'fillColor': 'blue', 'fillOpacity': 0.5}"
   ]
  },
  {
   "cell_type": "markdown",
   "metadata": {},
   "source": [
    "### 2. Create Synthetic Data\n",
    "\n",
    "We'll generate a set of existing facilities and a grid of demand points representing residential areas."
   ]
  },
  {
   "cell_type": "code",
   "execution_count": null,
   "metadata": {},
   "outputs": [],
   "source": [
    "np.random.seed(123)\n",
    "\n",
    "# Existing facilities\n",
    "existing_facilities = gpd.GeoDataFrame(\n",
    "    {'name': ['Existing Site A', 'Existing Site B']},\n",
    "    geometry=[Point( -1.85, 51.56), Point(-1.75, 51.58)],\n",
    "    crs=\"EPSG:4326\"\n",
    ")\n",
    "\n",
    "# A grid of demand points\n",
    "xx, yy = np.meshgrid(np.linspace(-1.9, -1.7, 10), np.linspace(51.55, 51.6, 10))\n",
    "demand_points = gpd.GeoDataFrame(\n",
    "    geometry=[Point(x, y) for x, y in zip(xx.ravel(), yy.ravel())],\n",
    "    crs=\"EPSG:4326\"\n",
    ")\n",
    "demand_points['id'] = range(len(demand_points))\n",
    "\n",
    "# Keep track of all facilities (existing and proposed)\n",
    "all_facilities = existing_facilities.copy()"
   ]
  },
  {
   "cell_type": "markdown",
   "metadata": {},
   "source": [
    "### 3. Core Logic: Allocate Demand and Create Map Layers"
   ]
  },
  {
   "cell_type": "code",
   "execution_count": null,
   "metadata": {},
   "outputs": [],
   "source": [
    "def allocate_demand_and_get_layers(facilities_gdf, demand_gdf):\n",
    "    \"\"\"Calculates which facility serves each demand point and prepares layers for the map.\"\"\"\n",
    "    if facilities_gdf.empty:\n",
    "        # If there are no facilities, color all demand points as unserved\n",
    "        demand_gdf['color'] = 'gray'\n",
    "        demand_layer = GeoData(geo_dataframe=demand_gdf, style_callback=lambda feat: {'color': feat['properties']['color']}, name='Demand')\n",
    "        return [demand_layer], []\n",
    "\n",
    "    # Project to a meter-based CRS for distance calculation\n",
    "    facilities_proj = facilities_gdf.to_crs(epsg=32630)\n",
    "    demand_proj = demand_gdf.to_crs(epsg=32630)\n",
    "\n",
    "    # For each demand point, find the nearest facility\n",
    "    allocations = []\n",
    "    for idx, demand_point in demand_proj.iterrows():\n",
    "        distances = facilities_proj.distance(demand_point.geometry)\n",
    "        closest_idx = distances.idxmin()\n",
    "        allocations.append(closest_idx)\n",
    "    \n",
    "    demand_proj['allocated_to'] = allocations\n",
    "\n",
    "    # Create colors for visualization\n",
    "    unique_facilities = demand_proj['allocated_to'].unique()\n",
    "    colors = plt.cm.get_cmap('tab10', len(unique_facilities))\n",
    "    color_map = {fac_idx: plt.matplotlib.colors.to_hex(colors(i)) for i, fac_idx in enumerate(unique_facilities)}\n",
    "    demand_proj['color'] = demand_proj['allocated_to'].map(color_map)\n",
    "\n",
    "    # Convert back to WGS84 for ipyleaflet\n",
    "    demand_final = demand_proj.to_crs(epsg=4326)\n",
    "\n",
    "    # Create map layers\n",
    "    demand_layer = GeoData(geo_dataframe=demand_final, \n",
    "                           point_style={'radius': 5, 'color': 'black', 'weight': 0.5, 'fillColor': 'red', 'fillOpacity': 0.7},\n",
    "                           style_callback=lambda feat: {'fillColor': feat['properties']['color']},\n",
    "                           name='Demand')\n",
    "    \n",
    "    facility_markers = [Marker(location=(g.y, g.x), draggable=False, title=name) \n",
    "                        for g, name in zip(facilities_gdf.geometry, facilities_gdf.name)]\n",
    "    \n",
    "    return [demand_layer], facility_markers\n"
   ]
  },
  {
   "cell_type": "markdown",
   "metadata": {},
   "source": [
    "### 4. Build the Interactive Map\n",
    "\n",
    "This is where we tie everything together. We'll create a map, a button, and an output widget to display messages. The core logic is in the `handle_interaction` function, which is called every time the user clicks on the map."
   ]
  },
  {
   "cell_type": "code",
   "execution_count": null,
   "metadata": {},
   "outputs": [],
   "source": [
    "# Initialize map centered on our area of interest\n",
    "m = Map(center=(51.575, -1.82), zoom=12, basemap=basemaps.CartoDB.Positron)\n",
    "\n",
    "# Create an output widget for logs\n",
    "out = widgets.Output(layout={'border': '1px solid black'})\n",
    "\n",
    "# Store map layers globally so we can remove them\n",
    "current_demand_layer = None\n",
    "current_facility_markers = []\n",
    "\n",
    "def update_map():\n",
    "    global all_facilities, demand_points, m, current_demand_layer, current_facility_markers\n",
    "    \n",
    "    # Remove old layers\n",
    "    if current_demand_layer in m.layers:\n",
    "        m.remove_layer(current_demand_layer)\n",
    "    for marker in current_facility_markers:\n",
    "        if marker in m.layers:\n",
    "            m.remove_layer(marker)\n",
    "            \n",
    "    # Get new layers\n",
    "    [demand_layer], facility_markers = allocate_demand_and_get_layers(all_facilities, demand_points)\n",
    "    \n",
    "    # Add new layers\n",
    "    m.add_layer(demand_layer)\n",
    "    for marker in facility_markers:\n",
    "        m.add_layer(marker)\n",
    "        \n",
    "    # Update global references\n",
    "    current_demand_layer = demand_layer\n",
    "    current_facility_markers = facility_markers\n",
    "\n",
    "def handle_interaction(**kwargs):\n",
    "    global all_facilities\n",
    "    if kwargs.get('type') == 'click':\n",
    "        coords = kwargs.get('coordinates')\n",
    "        with out:\n",
    "            out.clear_output()\n",
    "            new_name = f\"Proposed Site {len(all_facilities) - 1}\"\n",
    "            print(f\"Adding new facility '{new_name}' at {coords}\")\n",
    "            new_facility = gpd.GeoDataFrame(\n",
    "                {'name': [new_name]},\n",
    "                geometry=[Point(coords[1], coords[0])], # Note: Leaflet gives (lat, lon)\n",
    "                crs=\"EPSG:4326\"\n",
    "            )\n",
    "            all_facilities = pd.concat([all_facilities, new_facility], ignore_index=True)\n",
    "            update_map()\n",
    "\n",
    "# Button to reset the scenario\n",
    "reset_button = widgets.Button(description=\"Reset Scenario\")\n",
    "def on_reset_button_clicked(b):\n",
    "    global all_facilities\n",
    "    with out:\n",
    "        out.clear_output()\n",
    "        print(\"Resetting to initial state.\")\n",
    "        all_facilities = existing_facilities.copy()\n",
    "        update_map()\n",
    "reset_button.on_click(on_reset_button_clicked)\n",
    "\n",
    "# Attach the click handler to the map\n",
    "m.on_interaction(handle_interaction)\n",
    "\n",
    "# Initial map state\n",
    "update_map()\n",
    "\n",
    "# Display the final layout\n",
    "display(widgets.VBox([widgets.HTML(\"<h3>Click on the map to add a new facility</h3>\"), m, reset_button, out]))"
   ]
  },
  {
   "cell_type": "markdown",
   "metadata": {},
   "source": [
    "### 5. How to Use\n",
    "\n",
    "1.  Run all the cells above.\n",
    "2.  The map will display showing the initial state: two existing facilities and the demand points colored according to which of the two is closer.\n",
    "3.  **Click anywhere on the map.** A new marker will appear, representing a proposed facility.\n",
    "4.  The colors of the demand points will instantly update, showing the new catchment areas. You can see how many demand points are now served by your proposed site.\n",
    "5.  Click the **Reset Scenario** button to remove all proposed sites and return to the initial state."
   ]
  }
 ],
 "metadata": {
  "kernelspec": {
   "display_name": "Python 3",
   "language": "python",
   "name": "python3"
  },
  "language_info": {
   "codemirror_mode": {
    "name": "ipython",
    "version": 3
   },
   "file_extension": ".py",
   "mimetype": "text/x-python",
   "name": "python",
   "nbconvert_exporter": "python",
   "pygments_lexer": "ipython3",
   "version": "3.10.9"
  }
 },
 "nbformat": 4,
 "nbformat_minor": 4
}
