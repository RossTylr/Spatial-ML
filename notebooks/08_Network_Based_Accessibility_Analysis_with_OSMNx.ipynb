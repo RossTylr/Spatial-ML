{
 "cells": [
  {
   "cell_type": "markdown",
   "metadata": {},
   "source": [
    "## 08: Network-Based Accessibility Analysis with OSMnx\n",
    "\n",
    "**Goal:** To perform a more rigorous accessibility analysis by calculating travel times from many origins to the nearest of several destinations over a real-world street network.\n",
    "\n",
    "This notebook builds on concepts from notebooks 04 and 06. We will:\n",
    "1.  Use `osmnx` to download the street network for Exeter.\n",
    "2.  Define a set of destinations (e.g., supermarkets).\n",
    "3.  Define a set of origins (we'll use the centroids of LSOA polygons as proxies for residential areas).\n",
    "4.  Calculate the network travel time from each origin to its **single nearest** destination.\n",
    "5.  Create a choropleth map showing accessibility scores (travel times) across the city, highlighting areas with better or worse access to essential services."
   ]
  },
  {
   "cell_type": "markdown",
   "metadata": {},
   "source": [
    "### 1. Setup and Library Imports"
   ]
  },
  {
   "cell_type": "code",
   "execution_count": null,
   "metadata": {},
   "outputs": [],
   "source": [
    "import pandas as pd\n",
    "import geopandas as gpd\n",
    "import osmnx as ox\n",
    "import networkx as nx\n",
    "import matplotlib.pyplot as plt\n",
    "import contextily as cx\n",
    "\n",
    "ox.config(log_console=True, use_cache=True)"
   ]
  },
  {
   "cell_type": "markdown",
   "metadata": {},
   "source": [
    "### 2. Download Data: Street Network and Points of Interest\n",
    "\n",
    "`osmnx` can not only download street networks but also Points of Interest (POIs) like supermarkets directly from OpenStreetMap."
   ]
  },
  {
   "cell_type": "code",
   "execution_count": null,
   "metadata": {},
   "outputs": [],
   "source": [
    "place_name = \"Exeter, England\"\n",
    "\n",
    "# Get the street network for driving\n",
    "G = ox.graph_from_place(place_name, network_type='drive')\n",
    "\n",
    "# Add edge speeds and travel times\n",
    "G = ox.add_edge_speeds(G)\n",
    "G = ox.add_edge_travel_times(G)\n",
    "\n",
    "# Get supermarket POIs from OpenStreetMap\n",
    "tags = {\"shop\": \"supermarket\"}\n",
    "supermarkets = ox.features_from_place(place_name, tags)\n",
    "\n",
    "print(f\"Downloaded network with {len(G.nodes)} nodes and {len(G.edges)} edges.\")\n",
    "print(f\"Found {len(supermarkets)} supermarkets.\")"
   ]
  },
  {
   "cell_type": "markdown",
   "metadata": {},
   "source": [
    "### 3. Prepare Origins (LSOA Centroids)\n",
    "\n",
    "We'll reuse the LSOA data from notebook 06. The centroid of each LSOA will represent an origin point for our analysis."
   ]
  },
  {
   "cell_type": "code",
   "execution_count": null,
   "metadata": {},
   "outputs": [],
   "source": [
    "# Load LSOA data (using placeholder creation from notebook 06 if not available)\n",
    "try:\n",
    "    lsoa_gdf = gpd.read_file('data/LSOA_2021_Boundaries_Full_Clipped.shp')\n",
    "except Exception:\n",
    "    print(\"Could not load local LSOA data. Using a placeholder GeoDataFrame.\")\n",
    "    from shapely.geometry import box\n",
    "    xmin, ymin, xmax, ymax = -3.58, 50.68, -3.42, 50.78\n",
    "    grid_cells = []\n",
    "    lsoa_codes = []\n",
    "    for i, x in enumerate(np.linspace(xmin, xmax, 10)):\n",
    "        for j, y in enumerate(np.linspace(ymin, ymax, 10)):\n",
    "            grid_cells.append(box(x, y, x + (xmax-xmin)/10, y + (ymax-ymin)/10))\n",
    "            lsoa_codes.append(f'E0101{i:02d}{j:02d}')\n",
    "    lsoa_gdf = gpd.GeoDataFrame({'LSOA21CD': lsoa_codes}, geometry=grid_cells, crs=\"EPSG:4326\")\n",
    "\n",
    "# Ensure CRS matches the network\n",
    "if lsoa_gdf.crs != G.graph['crs']:\n",
    "    lsoa_gdf = lsoa_gdf.to_crs(G.graph['crs'])\n",
    "\n",
    "# Calculate centroids\n",
    "origins = lsoa_gdf.copy()\n",
    "origins['geometry'] = origins.centroid\n",
    "\n",
    "print(f\"Created {len(origins)} origin points from LSOA centroids.\")"
   ]
  },
  {
   "cell_type": "markdown",
   "metadata": {},
   "source": [
    "### 4. Perform Accessibility Calculation\n",
    "\n",
    "This is the core of the analysis. We find the nearest network node to every origin and every destination. Then, we calculate the shortest path travel time from each origin node to the *nearest* destination node."
   ]
  },
  {
   "cell_type": "code",
   "execution_count": null,
   "metadata": {},
   "outputs": [],
   "source": [
    "# Get the network nodes nearest to our origins and destinations\n",
    "dest_nodes = ox.nearest_nodes(G, X=supermarkets.geometry.x, Y=supermarkets.geometry.y)\n",
    "origin_nodes = ox.nearest_nodes(G, X=origins.geometry.x, Y=origins.geometry.y)\n",
    "\n",
    "# Calculate travel time from each origin to the nearest destination\n",
    "travel_times = []\n",
    "for origin_node in origin_nodes:\n",
    "    # Calculate shortest path length to all destination nodes\n",
    "    try:\n",
    "        lengths = nx.shortest_path_length(G, source=origin_node, target=dest_nodes, weight='travel_time')\n",
    "        # Get the minimum travel time (some destinations may be unreachable)\n",
    "        if isinstance(lengths, dict):\n",
    "            min_time = min(lengths.values()) / 60 # convert to minutes\n",
    "        else: # if only one destination, it returns a number\n",
    "            min_time = lengths / 60\n",
    "    except nx.NetworkXNoPath:\n",
    "        min_time = None # This origin can't reach any destination\n",
    "    \n",
    "    travel_times.append(min_time)\n",
    "\n",
    "# Add the results back to our LSOA GeoDataFrame\n",
    "lsoa_gdf['accessibility_mins'] = travel_times\n",
    "\n",
    "print(\"Accessibility calculation complete.\")\n",
    "lsoa_gdf[['LSOA21CD', 'accessibility_mins']].head()"
   ]
  },
  {
   "cell_type": "markdown",
   "metadata": {},
   "source": [
    "### 5. Visualize the Accessibility Map\n",
    "\n",
    "A choropleth map is the perfect way to visualize this kind of accessibility data. Areas with lower travel times (better access) will have a different color from areas with higher travel times."
   ]
  },
  {
   "cell_type": "code",
   "execution_count": null,
   "metadata": {},
   "outputs": [],
   "source": [
    "# Project to Web Mercator for plotting\n",
    "lsoa_plot = lsoa_gdf.to_crs(epsg=3857)\n",
    "supermarkets_plot = supermarkets.to_crs(epsg=3857)\n",
    "\n",
    "fig, ax = plt.subplots(1, 1, figsize=(15, 12))\n",
    "\n",
    "# Plot the choropleth map of accessibility\n",
    "lsoa_plot.plot(column='accessibility_mins', cmap='plasma_r', linewidth=0.5, ax=ax, edgecolor='0.8', legend=True,\n",
    "               missing_kwds={'color': 'lightgrey', 'label': 'No Path'},\n",
    "               legend_kwds={'label': \"Drive Time to Nearest Supermarket (minutes)\", 'orientation': \"horizontal\"})\n",
    "\n",
    "# Plot supermarket locations\n",
    "supermarkets_plot.plot(ax=ax, marker='*', color='lime', markersize=150, edgecolor='black', label='Supermarkets')\n",
    "\n",
    "ax.set_title('Supermarket Accessibility in Exeter by Car')\n",
    "ax.set_xticks([])\n",
    "ax.set_yticks([])\n",
    "ax.legend()\n",
    "cx.add_basemap(ax, source=cx.providers.CartoDB.Positron, zoom=12)\n",
    "\n",
    "plt.show()\n",
    "\n",
    "# Discussion:\n",
    "# - This map immediately highlights areas of good and poor accessibility. The dark purple areas have very short drive times to a supermarket, while the yellow areas are less well-served.\n",
    "# - This type of analysis is invaluable for urban planning, real estate, and public service provision. It can identify service deserts and inform decisions about where to locate new services."
   ]
  }
 ],
 "metadata": {
  "kernelspec": {
   "display_name": "Python 3",
   "language": "python",
   "name": "python3"
  },
  "language_info": {
   "codemirror_mode": {
    "name": "ipython",
    "version": 3
   },
   "file_extension": ".py",
   "mimetype": "text/x-python",
   "name": "python",
   "nbconvert_exporter": "python",
   "pygments_lexer": "ipython3",
   "version": "3.10.9"
  }
 },
 "nbformat": 4,
 "nbformat_minor": 4
}
