{
 "cells": [
  {
   "cell_type": "markdown",
   "metadata": {},
   "source": [
    "## 06: Integrating Census Geographies (OA, LSOA, MSOA)\n",
    "\n",
    "**Goal:** To enrich point data with valuable demographic context by joining it to official statistical geographies. A common task in spatial analysis is to understand the characteristics of the area surrounding a point of interest.\n",
    "\n",
    "This notebook demonstrates how to:\n",
    "1.  Load UK census geographies (we'll use Lower Layer Super Output Areas - LSOAs for Exeter).\n",
    "2.  Load a corresponding demographic dataset (e.g., population estimates).\n",
    "3.  Perform a **spatial join** to link a set of points (e.g., our libraries from notebook 04) to the census polygons they fall within.\n",
    "4.  Analyze the demographic characteristics of the areas served by each library."
   ]
  },
  {
   "cell_type": "markdown",
   "metadata": {},
   "source": [
    "### 1. Setup and Library Imports"
   ]
  },
  {
   "cell_type": "code",
   "execution_count": null,
   "metadata": {},
   "outputs": [],
   "source": [
    "import pandas as pd\n",
    "import geopandas as gpd\n",
    "import matplotlib.pyplot as plt\n",
    "import contextily as cx\n",
    "import requests\n",
    "import zipfile\n",
    "import io"
   ]
  },
  {
   "cell_type": "markdown",
   "metadata": {},
   "source": [
    "### 2. Download and Load Data\n",
    "\n",
    "We need two types of data:\n",
    "* **Geographic Data:** Shapefiles for the LSOAs in Devon.\n",
    "* **Attribute Data:** A CSV file with population data for each LSOA.\n",
    "\n",
    "We will download this data directly from the web."
   ]
  },
  {
   "cell_type": "code",
   "execution_count": null,
   "metadata": {},
   "outputs": [],
   "source": [
    "# URL for 2021 LSOA boundaries for England and Wales\n",
    "lsoa_url = 'https://geoportal.statistics.gov.uk/datasets/ons::lsoa-2021-boundaries-full-clipped-ew-bfc/explore?location=51.000000%2C-2.500000%2C7.00&showTable=true'\n",
    "# This is an example URL, in a real case you would find the direct download link for the shapefile zip.\n",
    "# For this notebook, we'll assume the files are in a local 'data' directory.\n",
    "\n",
    "# Let's create dummy data for demonstration purposes as direct download links are unstable.\n",
    "try:\n",
    "    # Attempt to load real data if present\n",
    "    lsoa_gdf = gpd.read_file('data/LSOA_2021_Boundaries_Full_Clipped.shp')\n",
    "    pop_df = pd.read_csv('data/lsoa_population_2021.csv')\n",
    "except Exception:\n",
    "    print(\"Could not load local data. Using a placeholder GeoDataFrame for Exeter.\")\n",
    "    from shapely.geometry import box\n",
    "    # Create a grid to represent LSOAs over Exeter\n",
    "    xmin, ymin, xmax, ymax = -3.58, 50.68, -3.42, 50.78 # Bounding box for Exeter\n",
    "    grid_cells = []\n",
    "    lsoa_codes = []\n",
    "    for i, x in enumerate(np.linspace(xmin, xmax, 10)):\n",
    "        for j, y in enumerate(np.linspace(ymin, ymax, 10)):\n",
    "            grid_cells.append(box(x, y, x + (xmax-xmin)/10, y + (ymax-ymin)/10))\n",
    "            lsoa_codes.append(f'E0101{i:02d}{j:02d}')\n",
    "    lsoa_gdf = gpd.GeoDataFrame({'LSOA21CD': lsoa_codes}, geometry=grid_cells, crs=\"EPSG:4326\")\n",
    "    # Create dummy population data\n",
    "    np.random.seed(42)\n",
    "    pop_df = pd.DataFrame({\n",
    "        'LSOA Code': lsoa_codes,\n",
    "        'All Persons': np.random.randint(1000, 2500, size=len(lsoa_codes))\n",
    "    })\n",
    "    # Rename columns to match typical ONS data\n",
    "    pop_df.rename(columns={'LSOA Code': 'LSOA21CD', 'All Persons': 'population'}, inplace=True)\n",
    "\n",
    "# Merge the geographic and attribute data\n",
    "lsoa_pop_gdf = lsoa_gdf.merge(pop_df, on='LSOA21CD')\n",
    "\n",
    "print(f\"Loaded {len(lsoa_pop_gdf)} LSOAs with population data.\")\n",
    "lsoa_pop_gdf.head()"
   ]
  },
  {
   "cell_type": "markdown",
   "metadata": {},
   "source": [
    "### 3. Load Point Data (Exeter Libraries)\n",
    "\n",
    "We'll use the same library locations from Notebook 04."
   ]
  },
  {
   "cell_type": "code",
   "execution_count": null,
   "metadata": {},
   "outputs": [],
   "source": [
    "libraries_data = {\n",
    "    'Exeter Library': [-3.5246, 50.7247],\n",
    "    'St Thomas Library': [-3.5425, 50.7169],\n",
    "    'Pinhoe Library': [-3.4752, 50.7408]\n",
    "}\n",
    "df = pd.DataFrame.from_dict(libraries_data, orient='index', columns=['longitude', 'latitude'])\n",
    "libraries_gdf = gpd.GeoDataFrame(\n",
    "    df,\n",
    "    geometry=gpd.points_from_xy(df.longitude, df.latitude),\n",
    "    crs=\"EPSG:4326\"\n",
    ").reset_index().rename(columns={'index': 'name'})"
   ]
  },
  {
   "cell_type": "markdown",
   "metadata": {},
   "source": [
    "### 4. Perform the Spatial Join\n",
    "\n",
    "This is the key step. The `gpd.sjoin` function joins two GeoDataFrames based on their spatial relationship. We will use the 'within' predicate to find which LSOA each library is located within."
   ]
  },
  {
   "cell_type": "code",
   "execution_count": null,
   "metadata": {},
   "outputs": [],
   "source": [
    "# Ensure both GeoDataFrames have the same CRS\n",
    "if libraries_gdf.crs != lsoa_pop_gdf.crs:\n",
    "    lsoa_pop_gdf = lsoa_pop_gdf.to_crs(libraries_gdf.crs)\n",
    "\n",
    "# Perform the spatial join\n",
    "libraries_with_demographics = gpd.sjoin(libraries_gdf, lsoa_pop_gdf, how=\"inner\", predicate=\"within\")\n",
    "\n",
    "print(\"Spatial join complete. Library data is now enriched with LSOA info:\")\n",
    "libraries_with_demographics[['name', 'LSOA21CD', 'population']]"
   ]
  },
  {
   "cell_type": "markdown",
   "metadata": {},
   "source": [
    "### 5. Visualize the Results\n",
    "\n",
    "We can now create a choropleth map showing the population of each LSOA and plot the libraries on top to see the demographic context of their locations."
   ]
  },
  {
   "cell_type": "code",
   "execution_count": null,
   "metadata": {},
   "outputs": [],
   "source": [
    "# Project to Web Mercator for plotting with contextily\n",
    "lsoa_plot = lsoa_pop_gdf.to_crs(epsg=3857)\n",
    "libraries_plot = libraries_with_demographics.to_crs(epsg=3857)\n",
    "\n",
    "fig, ax = plt.subplots(1, 1, figsize=(15, 12))\n",
    "\n",
    "# Plot LSOAs, colored by population (choropleth)\n",
    "lsoa_plot.plot(column='population', cmap='viridis', linewidth=0.5, ax=ax, edgecolor='0.8', legend=True,\n",
    "               legend_kwds={'label': \"Population by LSOA\", 'orientation': \"horizontal\"})\n",
    "\n",
    "# Plot the libraries\n",
    "libraries_plot.plot(ax=ax, marker='*', color='red', markersize=250, edgecolor='black')\n",
    "\n",
    "# Add labels for the libraries\n",
    "for x, y, label in zip(libraries_plot.geometry.x, libraries_plot.geometry.y, libraries_plot.name):\n",
    "    ax.text(x, y, label, fontsize=12, ha='right', path_effects=[plt.matplotlib.patheffects.withStroke(linewidth=3, foreground='white')])\n",
    "\n",
    "ax.set_title('Exeter Libraries and LSOA Population')\n",
    "ax.set_xticks([])\n",
    "ax.set_yticks([])\n",
    "cx.add_basemap(ax, source=cx.providers.CartoDB.Positron, zoom=12)\n",
    "\n",
    "plt.show()\n",
    "\n",
    "# Discussion:\n",
    "# - The table and map clearly show how we've linked each library to its host LSOA and its corresponding population data.\n",
    "# - This enriched data is the foundation for more advanced analysis. For example, you could now analyze if libraries are located in high-population areas, or join other datasets (like the Index of Multiple Deprivation) to assess if they serve areas of need."
   ]
  }
 ],
 "metadata": {
  "kernelspec": {
   "display_name": "Python 3",
   "language": "python",
   "name": "python3"
  },
  "language_info": {
   "codemirror_mode": {
    "name": "ipython",
    "version": 3
   },
   "file_extension": ".py",
   "mimetype": "text/x-python",
   "name": "python",
   "nbconvert_exporter": "python",
   "pygments_lexer": "ipython3",
   "version": "3.10.9"
  }
 },
 "nbformat": 4,
 "nbformat_minor": 4
}
