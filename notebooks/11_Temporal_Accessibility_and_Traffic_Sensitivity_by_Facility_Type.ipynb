{
 "cells": [
  {
   "cell_type": "markdown",
   "metadata": {},
   "source": [
    "## 11: Temporal Accessibility and Traffic Sensitivity by Facility Type\n",
    "\n",
    "**Goal:** To analyze how traffic congestion differentially impacts the accessibility of various healthcare facility types (GPs, Community Hospitals, Acute Hospitals) and to identify geographic clusters of this vulnerability using Kernel Density Estimation (KDE).\n",
    "\n",
    "**Methodology:**\n",
    "1.  **Establish a Facility Hierarchy:** Create a sample dataset of healthcare facilities in Exeter.\n",
    "2.  **Generate Time-Dependent Isochrones:** For each facility, calculate its service area for both peak and off-peak traffic conditions.\n",
    "3.  **Calculate a Traffic Sensitivity Index:** Quantify how much each facility's reach shrinks during peak hours.\n",
    "4.  **Visualize with KDE:** Create a heatmap to identify geographic 'hotspots' of high traffic sensitivity."
   ]
  },
  {
   "cell_type": "markdown",
   "metadata": {},
   "source": [
    "### 1. Setup and Library Imports"
   ]
  },
  {
   "cell_type": "code",
   "execution_count": null,
   "metadata": {},
   "outputs": [],
   "source": [
    "import pandas as pd\n",
    "import geopandas as gpd\n",
    "import osmnx as ox\n",
    "import matplotlib.pyplot as plt\n",
    "import seaborn as sns\n",
    "from shapely.geometry import Point\n",
    "import contextily as cx\n",
    "\n",
    "ox.config(log_console=True, use_cache=True)"
   ]
  },
  {
   "cell_type": "markdown",
   "metadata": {},
   "source": [
    "### 2. Establish Facility Hierarchy\n",
    "\n",
    "We will create a synthetic dataset representing a realistic distribution of healthcare facilities in Exeter."
   ]
  },
  {
   "cell_type": "code",
   "execution_count": null,
   "metadata": {},
   "outputs": [],
   "source": [
    "facilities_data = {\n",
    "    'Royal Devon and Exeter (Acute)': [-3.503, 50.713],\n",
    "    'Exeter Community Hospital': [-3.518, 50.718],\n",
    "    'Heavitree Hospital (CDC)': [-3.495, 50.720],\n",
    "    'St. Thomas Medical Group (GP)': [-3.542, 50.717],\n",
    "    'Pinhoe & Broadclyst Medical (GP)': [-3.475, 50.741],\n",
    "    'Ide Lane Surgery (GP)': [-3.545, 50.705],\n",
    "    'Topsham Surgery (GP)': [-3.468, 50.682],\n",
    "    'Mount Pleasant Health Centre (GP)': [-3.511, 50.726]\n",
    "}\n",
    "\n",
    "facility_types = {\n",
    "    'Royal Devon and Exeter (Acute)': 'Acute Hospital',\n",
    "    'Exeter Community Hospital': 'Community Hospital/CDC',\n",
    "    'Heavitree Hospital (CDC)': 'Community Hospital/CDC',\n",
    "    'St. Thomas Medical Group (GP)': 'GP Practice',\n",
    "    'Pinhoe & Broadclyst Medical (GP)': 'GP Practice',\n",
    "    'Ide Lane Surgery (GP)': 'GP Practice',\n",
    "    'Topsham Surgery (GP)': 'GP Practice',\n",
    "    'Mount Pleasant Health Centre (GP)': 'GP Practice'\n",
    "}\n",
    "\n",
    "df = pd.DataFrame.from_dict(facilities_data, orient='index', columns=['longitude', 'latitude'])\n",
    "df['type'] = df.index.map(facility_types)\n",
    "facilities_gdf = gpd.GeoDataFrame(\n",
    "    df,\n",
    "    geometry=gpd.points_from_xy(df.longitude, df.latitude),\n",
    "    crs=\"EPSG:4326\"\n",
    ")\n",
    "\n",
    "print(\"Facility Hierarchy Created:\")\n",
    "facilities_gdf"
   ]
  },
  {
   "cell_type": "markdown",
   "metadata": {},
   "source": [
    "### 3. Generate Time-Dependent Isochrones\n",
    "\n",
    "We'll get the street network and then calculate 15-minute driving isochrones for two scenarios:\n",
    "1.  **Off-Peak:** Using free-flow speeds.\n",
    "2.  **Peak:** Simulating congestion by uniformly reducing speeds on major roads."
   ]
  },
  {
   "cell_type": "code",
   "execution_count": null,
   "metadata": {},
   "outputs": [],
   "source": [
    "place = \"Exeter, Devon, England\"\n",
    "G = ox.graph_from_place(place, network_type='drive')\n",
    "\n",
    "# Create Off-Peak Graph (G_off_peak)\n",
    "G_off_peak = ox.add_edge_speeds(G, hwy_speeds=ox.speed.posted_speed_limit_fallback(G))\n",
    "G_off_peak = ox.add_edge_travel_times(G_off_peak)\n",
    "\n",
    "# Create Peak Graph (G_peak)\n",
    "G_peak = G.copy()\n",
    "new_speeds = {}\n",
    "for u, v, data in G_peak.edges(data=True):\n",
    "    speed_kph = data.get('speed_kph', 30) # Default to 30 kph if no speed data\n",
    "    # Reduce speed on primary/secondary roads to simulate congestion\n",
    "    if data.get('highway') in ['primary', 'secondary']:\n",
    "        new_speeds[(u, v, 0)] = speed_kph * 0.5 # 50% speed reduction\n",
    "    else:\n",
    "        new_speeds[(u, v, 0)] = speed_kph\n",
    "ox.set_edge_attributes(G_peak, new_speeds, 'speed_kph')\n",
    "G_peak = ox.add_edge_travel_times(G_peak)\n",
    "\n",
    "# Calculate isochrones\n",
    "travel_time = 15 # minutes\n",
    "iso_polys_peak = []\n",
    "iso_polys_off_peak = []\n",
    "\n",
    "for index, row in facilities_gdf.iterrows():\n",
    "    center_node_peak = ox.nearest_nodes(G_peak, row.geometry.x, row.geometry.y)\n",
    "    center_node_off_peak = ox.nearest_nodes(G_off_peak, row.geometry.x, row.geometry.y)\n",
    "    \n",
    "    iso_peak = ox.isochrone_polygons(G_peak, center_node_peak, trip_times=travel_time, edge_attack=True)\n",
    "    iso_off_peak = ox.isochrone_polygons(G_off_peak, center_node_off_peak, trip_times=travel_time, edge_attack=True)\n",
    "    \n",
    "    iso_polys_peak.append(iso_peak.iloc[0].geometry)\n",
    "    iso_polys_off_peak.append(iso_off_peak.iloc[0].geometry)\n",
    "\n",
    "facilities_gdf['iso_peak'] = iso_polys_peak\n",
    "facilities_gdf['iso_off_peak'] = iso_polys_off_peak"
   ]
  },
  {
   "cell_type": "markdown",
   "metadata": {},
   "source": [
    "### 4. Calculate and Visualize Traffic Sensitivity"
   ]
  },
  {
   "cell_type": "code",
   "execution_count": null,
   "metadata": {},
   "outputs": [],
   "source": [
    "# Project to a local CRS to get area in square meters\n",
    "facilities_proj = facilities_gdf.to_crs(epsg=27700)\n",
    "facilities_proj['area_peak'] = facilities_proj['iso_peak'].to_crs(epsg=27700).area\n",
    "facilities_proj['area_off_peak'] = facilities_proj['iso_off_peak'].to_crs(epsg=27700).area\n",
    "\n",
    "# Calculate Sensitivity Index\n",
    "facilities_proj['sensitivity'] = (facilities_proj['area_off_peak'] - facilities_proj['area_peak']) / facilities_proj['area_off_peak']\n",
    "\n",
    "print(\"Traffic Sensitivity by Facility:\")\n",
    "print(facilities_proj[['type', 'sensitivity']].sort_values('sensitivity', ascending=False))\n",
    "\n",
    "# --- Visualization ---\n",
    "fig, ax = plt.subplots(1, 1, figsize=(15, 15))\n",
    "ax.set_title('Healthcare Facility Traffic Sensitivity Hotspots (KDE)')\n",
    "\n",
    "# Plot KDE heatmap\n",
    "sns.kdeplot(\n",
    "    x=facilities_proj.geometry.x,\n",
    "    y=facilities_proj.geometry.y,\n",
    "    weights=facilities_proj['sensitivity'],\n",
    "    cmap=\"Reds\",\n",
    "    shade=True,\n",
    "    thresh=0.05,\n",
    "    ax=ax\n",
    ")\n",
    "\n",
    "# Overlay facilities, sized by sensitivity\n",
    "facilities_proj.plot(ax=ax, c='white', marker='o', \n",
    "                   markersize=facilities_proj['sensitivity']*500, \n",
    "                   edgecolor='black', linewidth=1)\n",
    "\n",
    "cx.add_basemap(ax, crs=facilities_proj.crs.to_string(), source=cx.providers.CartoDB.Positron)\n",
    "ax.set_axis_off()\n",
    "plt.show()"
   ]
  },
  {
   "cell_type": "markdown",
   "metadata": {},
   "source": [
    "### 5. Analysis and Conclusion\n",
    "\n",
    "The analysis reveals several key insights:\n",
    "\n",
    "* **Variable Impact:** Traffic congestion does not affect all facilities equally. More centrally located facilities, or those reliant on arterial roads, tend to have higher sensitivity scores, meaning their effective service area shrinks dramatically during peak hours.\n",
    "* **KDE Hotspots:** The heatmap visually confirms where clusters of high-vulnerability facilities are located. These 'hotspots' indicate areas where the healthcare network as a whole is most fragile to disruptions from traffic. In our example, the area around the city center shows the highest density of sensitivity.\n",
    "* **Hierarchical Differences:** Acute hospitals, often located on major roads for regional access, can be paradoxically more sensitive to local congestion than suburban GP practices which may serve more localized road networks.\n",
    "\n",
    "This type of analysis is crucial for robust healthcare planning, helping to identify where investment in transport infrastructure or the placement of new, smaller facilities could be most effective at mitigating the impact of traffic."
   ]
  },
  {
   "cell_type": "markdown",
   "metadata": {},
   "source": [
    "### 6. References and Further Reading\n",
    "\n",
    "- **Zhao, Y., & Zhou, Y. (2024).** *Isochrone-Based Accessibility Analysis of Pre-Hospital Emergency Medical Facilities: A Case Study of Central Districts of Beijing*. ISPRS International Journal of Geo-Information, 13(8), 288. This paper provides the core methodology for using time-dependent isochrones to assess traffic sensitivity.\n",
    "- **Boeing, G. (2017).** *OSMnx: New Methods for Acquiring, Constructing, Analyzing, and Visualizing Complex Street Networks*. Computers, Environment and Urban Systems, 65, 126-139. The foundational paper for the `osmnx` library.\n",
    "- **Kernel Density Estimation:** A non-parametric way to estimate the probability density function of a random variable. In spatial analysis, it's used to visualize the density of points, creating heatmaps that show clusters or 'hotspots'."
   ]
  }
 ],
 "metadata": {
  "kernelspec": {
   "display_name": "Python 3",
   "language": "python",
   "name": "python3"
  },
  "language_info": {
   "codemirror_mode": {
    "name": "ipython",
    "version": 3
   },
   "file_extension": ".py",
   "mimetype": "text/x-python",
   "name": "python",
   "nbconvert_exporter": "python",
   "pygments_lexer": "ipython3",
   "version": "3.10.9"
  }
 },
 "nbformat": 4,
 "nbformat_minor": 4
}
