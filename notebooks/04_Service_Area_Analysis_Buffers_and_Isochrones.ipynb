{
 "cells": [
  {
   "cell_type": "markdown",
   "metadata": {},
   "source": [
    "## 04: Service Area Analysis - Buffers vs. Isochrones\n",
    "\n",
    "**Goal:** To understand and compare two fundamental methods for defining service or catchment areas around points of interest:\n",
    "\n",
    "1.  **Geometric Buffers:** Simple circles drawn around a point representing a fixed straight-line (\"as the crow flies\") distance. Fast and easy, but often unrealistic in urban environments.\n",
    "2.  **Isochrones/Isodistances:** Service areas based on a real street network. They represent all the locations reachable within a specified travel time or distance. These are far more realistic for accessibility analysis.\n",
    "\n",
    "We will use libraries in Exeter as our points of interest and analyze their service areas."
   ]
  },
  {
   "cell_type": "markdown",
   "metadata": {},
   "source": [
    "### 1. Setup and Library Imports"
   ]
  },
  {
   "cell_type": "code",
   "execution_count": null,
   "metadata": {},
   "outputs": [],
   "source": [
    "import pandas as pd\n",
    "import geopandas as gpd\n",
    "import osmnx as ox\n",
    "import matplotlib.pyplot as plt\n",
    "from shapely.geometry import Point\n",
    "import contextily as cx\n",
    "\n",
    "# Configure osmnx\n",
    "ox.config(log_console=True, use_cache=True)"
   ]
  },
  {
   "cell_type": "markdown",
   "metadata": {},
   "source": [
    "### 2. Define Points of Interest (Exeter Libraries)\n",
    "\n",
    "We'll manually define the locations of a few libraries in Exeter. In a real project, you might geocode these from a list of addresses."
   ]
  },
  {
   "cell_type": "code",
   "execution_count": null,
   "metadata": {},
   "outputs": [],
   "source": [
    "# Data for Exeter Libraries (Name, Longitude, Latitude)\n",
    "libraries_data = {\n",
    "    'Exeter Library': [-3.5246, 50.7247],\n",
    "    'St Thomas Library': [-3.5425, 50.7169],\n",
    "    'Pinhoe Library': [-3.4752, 50.7408]\n",
    "}\n",
    "\n",
    "# Create a GeoDataFrame\n",
    "df = pd.DataFrame.from_dict(libraries_data, orient='index', columns=['longitude', 'latitude'])\n",
    "libraries_gdf = gpd.GeoDataFrame(\n",
    "    df,\n",
    "    geometry=gpd.points_from_xy(df.longitude, df.latitude),\n",
    "    crs=\"EPSG:4326\" # Standard WGS84 lat/lon\n",
    ")\n",
    "\n",
    "print(\"Libraries GeoDataFrame:\")\n",
    "libraries_gdf"
   ]
  },
  {
   "cell_type": "markdown",
   "metadata": {},
   "source": [
    "### 3. Method 1: Geometric Buffers\n",
    "\n",
    "First, we'll create simple circular buffers. It's crucial to project our data into a suitable projected coordinate system (like UTM) where units are in meters, so our buffer distance is meaningful."
   ]
  },
  {
   "cell_type": "code",
   "execution_count": null,
   "metadata": {},
   "outputs": [],
   "source": [
    "# Project to a local CRS (UTM Zone 30N for Exeter) to work in meters\n",
    "libraries_proj = libraries_gdf.to_crs(epsg=32630)\n",
    "\n",
    "# Create a 1500-meter (1.5km) buffer around each library\n",
    "buffers_gdf = libraries_proj.copy()\n",
    "buffers_gdf['geometry'] = libraries_proj.geometry.buffer(1500)\n",
    "\n",
    "print(\"Buffers GeoDataFrame created.\")"
   ]
  },
  {
   "cell_type": "markdown",
   "metadata": {},
   "source": [
    "### 4. Method 2: Network-based Isochrones\n",
    "\n",
    "Now for the more advanced method. We'll download the Exeter street network for walking and calculate a 15-minute travel time area from each library."
   ]
  },
  {
   "cell_type": "code",
   "execution_count": null,
   "metadata": {},
   "outputs": [],
   "source": [
    "# Define the place and get the street network\n",
    "place_name = \"Exeter, England\"\n",
    "G = ox.graph_from_place(place_name, network_type='walk')\n",
    "\n",
    "# Get the nearest network node for each library\n",
    "library_nodes = ox.nearest_nodes(G, X=libraries_gdf['geometry'].x, Y=libraries_gdf['geometry'].y)\n",
    "\n",
    "# Calculate isochrones for a 15-minute walk\n",
    "# Assumes an average walking speed of 4.5 km/hour\n",
    "travel_time_minutes = 15\n",
    "trip_times = [travel_time_minutes]\n",
    "meters_per_minute = 4500 / 60 # 4.5 km/hr walking speed\n",
    "travel_distance_meters = trip_times[0] * meters_per_minute\n",
    "\n",
    "isochrones = []\n",
    "for node in library_nodes:\n",
    "    # Create a subgraph for each isochrone\n",
    "    subgraph = ox.truncate.truncate_graph_dist(G, node, max_dist=travel_distance_meters)\n",
    "    # Get the convex hull of the nodes in the subgraph\n",
    "    isochrone_poly = gpd.GeoSeries(ox.graph_to_gdfs(subgraph, edges=False).unary_union.convex_hull)\n",
    "    isochrones.append(isochrone_poly[0])\n",
    "\n",
    "# Create a GeoDataFrame for the isochrones\n",
    "isochrones_gdf = gpd.GeoDataFrame(\n",
    "    {'name': libraries_gdf.index},\n",
    "    geometry=isochrones,\n",
    "    crs=G.graph['crs']\n",
    ")\n",
    "\n",
    "print(\"Isochrones GeoDataFrame created.\")"
   ]
  },
  {
   "cell_type": "markdown",
   "metadata": {},
   "source": [
    "### 5. Compare the Results Visually\n",
    "\n",
    "Plotting both the buffers and the isochrones on the same map highlights the significant difference. The isochrones are shaped by the actual street layout, river crossings, and path availability."
   ]
  },
  {
   "cell_type": "code",
   "execution_count": null,
   "metadata": {},
   "outputs": [],
   "source": [
    "# We need all layers in the same CRS for plotting. Let's use Web Mercator (EPSG:3857).\n",
    "buffers_plot = buffers_gdf.to_crs(epsg=3857)\n",
    "isochrones_plot = isochrones_gdf.to_crs(epsg=3857)\n",
    "libraries_plot = libraries_gdf.to_crs(epsg=3857)\n",
    "\n",
    "fig, ax = plt.subplots(figsize=(15, 15))\n",
    "\n",
    "# Plot the isochrones (network-based)\n",
    "isochrones_plot.plot(ax=ax, color='blue', edgecolor='black', alpha=0.6, label='15-Min Walk Isochrone')\n",
    "\n",
    "# Plot the buffers (simple distance)\n",
    "buffers_plot.plot(ax=ax, color='red', edgecolor='black', alpha=0.4, label='1.5 km Buffer')\n",
    "\n",
    "# Plot the libraries\n",
    "libraries_plot.plot(ax=ax, marker='*', color='yellow', markersize=200, edgecolor='black', label='Library Location')\n",
    "\n",
    "ax.set_title('Service Area Comparison: Buffers vs. Isochrones in Exeter')\n",
    "ax.set_xticks([])\n",
    "ax.set_yticks([])\n",
    "ax.legend()\n",
    "\n",
    "# Add a basemap\n",
    "cx.add_basemap(ax, source=cx.providers.CartoDB.Positron)\n",
    "\n",
    "plt.show()\n",
    "\n",
    "# Discussion:\n",
    "# - The red circles (buffers) are uniform and don't respect any real-world features like the River Exe.\n",
    "# - The blue polygons (isochrones) are irregular. They stretch along major roads and are constrained by features like the river, only crossing at bridge points. This provides a much more accurate picture of what is truly accessible from each library on foot.\n",
    "# - This demonstrates why for any serious accessibility or location-based analysis in an urban area, network-based methods are essential."
   ]
  }
 ],
 "metadata": {
  "kernelspec": {
   "display_name": "Python 3",
   "language": "python",
   "name": "python3"
  },
  "language_info": {
   "codemirror_mode": {
    "name": "ipython",
    "version": 3
   },
   "file_extension": ".py",
   "mimetype": "text/x-python",
   "name": "python",
   "nbconvert_exporter": "python",
   "pygments_lexer": "ipython3",
   "version": "3.10.9"
  }
 },
 "nbformat": 4,
 "nbformat_minor": 4
}
