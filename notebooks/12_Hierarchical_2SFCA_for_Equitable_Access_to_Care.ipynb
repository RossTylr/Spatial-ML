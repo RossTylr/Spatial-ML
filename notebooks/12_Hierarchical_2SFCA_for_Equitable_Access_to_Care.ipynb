{
 "cells": [
  {
   "cell_type": "markdown",
   "metadata": {},
   "source": [
    "## 12: Hierarchical 2SFCA for Equitable Access to Care\n",
    "\n",
    "**Goal:** To model healthcare accessibility by accounting for both resource competition (supply vs. demand) and the need to match patients with an appropriate level of care. This moves beyond simple travel time to a more nuanced measure of service equity.\n",
    "\n",
    "**Methodology:**\n",
    "We will implement the **Hierarchical Two-Step Floating Catchment Area (H-2SFCA)** method.\n",
    "1.  **Define Service Tiers:** Assign capabilities to our facility hierarchy (GP, Community, Acute).\n",
    "2.  **Step 1 (Supply-Side):** For each facility, calculate its provider-to-population ratio within its service area.\n",
    "3.  **Step 2 (Demand-Side):** For each residential area (LSOA), sum the ratios of all *appropriate* facilities it can reach.\n",
    "4.  **Visualize Tiered Access:** Create separate maps for Primary, Community, and Acute care accessibility to identify different types of healthcare deserts."
   ]
  },
  {
   "cell_type": "markdown",
   "metadata": {},
   "source": [
    "### 1. Setup and Library Imports"
   ]
  },
  {
   "cell_type": "code",
   "execution_count": null,
   "metadata": {},
   "outputs": [],
   "source": [
    "import pandas as pd\n",
    "import geopandas as gpd\n",
    "import numpy as np\n",
    "import osmnx as ox\n",
    "import matplotlib.pyplot as plt\n",
    "from shapely.geometry import Point, box\n",
    "import contextily as cx"
   ]
  },
  {
   "cell_type": "markdown",
   "metadata": {},
   "source": [
    "### 2. Load and Prepare Data\n",
    "\n",
    "We need a facility hierarchy, demand points (LSOAs with population), and a street network."
   ]
  },
  {
   "cell_type": "code",
   "execution_count": null,
   "metadata": {},
   "outputs": [],
   "source": [
    "# --- 1. Facility Data with Hierarchy and Capacity ---\n",
    "facilities_data = {\n",
    "    'Royal Devon and Exeter (Acute)': [-3.503, 50.713, 3, 50], # Name: [lon, lat, tier, capacity (e.g., # of specialists)]\n",
    "    'Exeter Community Hospital': [-3.518, 50.718, 2, 20],\n",
    "    'Heavitree Hospital (CDC)': [-3.495, 50.720, 2, 25],\n",
    "    'St. Thomas Medical Group (GP)': [-3.542, 50.717, 1, 5],\n",
    "    'Pinhoe & Broadclyst Medical (GP)': [-3.475, 50.741, 1, 6],\n",
    "    'Ide Lane Surgery (GP)': [-3.545, 50.705, 1, 4],\n",
    "    'Topsham Surgery (GP)': [-3.468, 50.682, 1, 3]\n",
    "}\n",
    "df = pd.DataFrame.from_dict(facilities_data, orient='index', columns=['lon', 'lat', 'tier', 'capacity'])\n",
    "facilities_gdf = gpd.GeoDataFrame(\n",
    "    df, geometry=gpd.points_from_xy(df.lon, df.lat), crs=\"EPSG:4326\"\n",
    ")\n",
    "\n",
    "# --- 2. Demand Data (LSOAs with Population) ---\n",
    "# Using placeholder LSOAs for Exeter as in previous notebooks\n",
    "xmin, ymin, xmax, ymax = -3.58, 50.68, -3.42, 50.78 # Bounding box for Exeter\n",
    "grid_cells = []\n",
    "for i, x in enumerate(np.linspace(xmin, xmax, 15)):\n",
    "    for j, y in enumerate(np.linspace(ymin, ymax, 15)):\n",
    "        grid_cells.append(box(x, y, x + (xmax-xmin)/15, y + (ymax-ymin)/15))\n",
    "lsoa_gdf = gpd.GeoDataFrame(geometry=grid_cells, crs=\"EPSG:4326\")\n",
    "lsoa_gdf['LSOA_ID'] = range(len(lsoa_gdf))\n",
    "np.random.seed(42)\n",
    "lsoa_gdf['population'] = np.random.randint(1500, 2500, size=len(lsoa_gdf))\n",
    "demand_points = lsoa_gdf.copy()\n",
    "demand_points['geometry'] = demand_points.centroid\n",
    "\n",
    "# --- 3. Street Network ---\n",
    "G = ox.graph_from_place(\"Exeter, England\", network_type='drive')"
   ]
  },
  {
   "cell_type": "markdown",
   "metadata": {},
   "source": [
    "### 3. Implement the Hierarchical 2SFCA Method\n",
    "\n",
    "We'll create a function to run the 2SFCA for a given service tier and travel time."
   ]
  },
  {
   "cell_type": "code",
   "execution_count": null,
   "metadata": {},
   "outputs": [],
   "source": [
    "def run_2sfca(facilities, demand, network, travel_time_min, service_tier):\n",
    "    \"\"\"Runs the 2SFCA algorithm for a specific service tier.\"\"\"\n",
    "    # --- Step 1: Calculate Provider-to-Population Ratios (PPR) ---\n",
    "    ppr_list = []\n",
    "    \n",
    "    # Consider only facilities that can provide *at least* the required service tier\n",
    "    relevant_facilities = facilities[facilities['tier'] >= service_tier]\n",
    "    \n",
    "    for idx, facility in relevant_facilities.iterrows():\n",
    "        # Create catchment area\n",
    "        center_node = ox.nearest_nodes(network, facility.geometry.x, facility.geometry.y)\n",
    "        isochrone = ox.isochrone_polygons(network, center_node, trip_times=[travel_time_min], edge_attack=True)\n",
    "        \n",
    "        # Find demand points within catchment\n",
    "        points_in_iso = demand[demand.within(isochrone.iloc[0].geometry)]\n",
    "        population_in_catchment = points_in_iso['population'].sum()\n",
    "        \n",
    "        # Calculate PPR\n",
    "        if population_in_catchment > 0:\n",
    "            ppr = facility['capacity'] / population_in_catchment\n",
    "        else:\n",
    "            ppr = 0\n",
    "        ppr_list.append(ppr)\n",
    "    \n",
    "    relevant_facilities['ppr'] = ppr_list\n",
    "    \n",
    "    # --- Step 2: Sum Ratios for Demand Points ---\n",
    "    accessibility_scores = []\n",
    "    for idx, demand_point in demand.iterrows():\n",
    "        # Create catchment area for the demand point\n",
    "        center_node = ox.nearest_nodes(network, demand_point.geometry.x, demand_point.geometry.y)\n",
    "        isochrone = ox.isochrone_polygons(network, center_node, trip_times=[travel_time_min], edge_attack=True)\n",
    "        \n",
    "        # Find facilities within this catchment\n",
    "        facilities_in_iso = relevant_facilities[relevant_facilities.within(isochrone.iloc[0].geometry)]\n",
    "        \n",
    "        # Sum the PPRs of reachable facilities\n",
    "        accessibility_score = facilities_in_iso['ppr'].sum()\n",
    "        accessibility_scores.append(accessibility_score)\n",
    "        \n",
    "    return accessibility_scores\n",
    "\n",
    "# Run for each tier\n",
    "lsoa_gdf['access_primary'] = run_2sfca(facilities_gdf, demand_points, G, 10, service_tier=1) # 10-min drive for GP\n",
    "lsoa_gdf['access_community'] = run_2sfca(facilities_gdf, demand_points, G, 20, service_tier=2) # 20-min drive for Community\n",
    "lsoa_gdf['access_acute'] = run_2sfca(facilities_gdf, demand_points, G, 30, service_tier=3) # 30-min drive for Acute"
   ]
  },
  {
   "cell_type": "markdown",
   "metadata": {},
   "source": [
    "### 4. Visualize Tiered Accessibility\n",
    "\n",
    "We create a separate choropleth map for each care tier. This allows us to see how different types of healthcare access vary across the city."
   ]
  },
  {
   "cell_type": "code",
   "execution_count": null,
   "metadata": {},
   "outputs": [],
   "source": [
    "fig, axes = plt.subplots(1, 3, figsize=(24, 8), sharex=True, sharey=True)\n",
    "lsoa_plot = lsoa_gdf.to_crs(epsg=3857)\n",
    "\n",
    "# Map 1: Primary Care (GP) Accessibility\n",
    "lsoa_plot.plot(column='access_primary', cmap='viridis', linewidth=0.5, ax=axes[0], edgecolor='0.8', legend=True,\n",
    "               legend_kwds={'label': \"Primary Care Score (GP)\", 'orientation': \"horizontal\"})\n",
    "axes[0].set_title('A) Primary Care Accessibility')\n",
    "cx.add_basemap(axes[0], crs=lsoa_plot.crs.to_string(), source=cx.providers.CartoDB.Positron)\n",
    "axes[0].set_axis_off()\n",
    "\n",
    "# Map 2: Community Care Accessibility\n",
    "lsoa_plot.plot(column='access_community', cmap='plasma', linewidth=0.5, ax=axes[1], edgecolor='0.8', legend=True,\n",
    "               legend_kwds={'label': \"Community Care Score\", 'orientation': \"horizontal\"})\n",
    "axes[1].set_title('B) Community Care Accessibility')\n",
    "cx.add_basemap(axes[1], crs=lsoa_plot.crs.to_string(), source=cx.providers.CartoDB.Positron)\n",
    "axes[1].set_axis_off()\n",
    "\n",
    "# Map 3: Acute Care (Hospital) Accessibility\n",
    "lsoa_plot.plot(column='access_acute', cmap='magma', linewidth=0.5, ax=axes[2], edgecolor='0.8', legend=True,\n",
    "               legend_kwds={'label': \"Acute Care Score (Hospital)\", 'orientation': \"horizontal\"})\n",
    "axes[2].set_title('C) Acute Care Accessibility')\n",
    "cx.add_basemap(axes[2], crs=lsoa_plot.crs.to_string(), source=cx.providers.CartoDB.Positron)\n",
    "axes[2].set_axis_off()\n",
    "\n",
    "plt.tight_layout()\n",
    "plt.show()"
   ]
  },
  {
   "cell_type": "markdown",
   "metadata": {},
   "source": [
    "### 5. Analysis and Conclusion\n",
    "\n",
    "The 2SFCA method provides a much richer understanding of accessibility than travel time alone.\n",
    "\n",
    "- **Reveals Hidden Disparities:** An area might appear to have good access because it's close to a facility (low travel time), but if that facility is overwhelmed with demand from a large population, the actual accessibility is low. The 2SFCA score captures this.\n",
    "- **Highlights Different 'Deserts':** The maps clearly show that an area can be a 'desert' for one type of care but not another. For example, a suburban area might have excellent access to GP practices (Map A) but very poor access to specialized acute care (Map C).\n",
    "- **Informs Systemic Planning:** This analysis is vital for health service planners. It helps identify not just where to put new facilities, but *what kind* of facilities are needed most in specific areas to ensure equitable access across all tiers of care."
   ]
  },
  {
   "cell_type": "markdown",
   "metadata": {},
   "source": [
    "### 6. References and Further Reading\n",
    "\n",
    "- **Luo, W., & Wang, F. (2003).** *Measures of spatial accessibility to health care in a GIS environment: synthesis and a case study in the Chicago region*. Environment and Planning B: Planning and Design, 30(6), 865-884. One of the foundational papers on the 2SFCA method.\n",
    "- **Zhao, Y., & Zhou, Y. (2024).** *Isochrone-Based Accessibility Analysis of Pre-Hospital Emergency Medical Facilities*. ISPRS Int. J. Geo-Inf. The concept of assessing equity from the demand side by considering resource competition is central to this paper and the 2SFCA method.\n",
    "- **Hierarchical Models:** The idea of modeling different tiers of service is common in healthcare and retail analysis. It recognizes that services are not uniform and that higher-order services are typically less numerous and have larger catchment areas."
   ]
  }
 ],
 "metadata": {
  "kernelspec": {
   "display_name": "Python 3",
   "language": "python",
   "name": "python3"
  },
  "language_info": {
   "codemirror_mode": {
    "name": "ipython",
    "version": 3
   },
   "file_extension": ".py",
   "mimetype": "text/x-python",
   "name": "python",
   "nbconvert_exporter": "python",
   "pygments_lexer": "ipython3",
   "version": "3.10.9"
  }
 },
 "nbformat": 4,
 "nbformat_minor": 4
}
