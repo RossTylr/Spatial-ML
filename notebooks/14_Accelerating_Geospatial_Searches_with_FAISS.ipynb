{
 "cells": [
  {
   "cell_type": "markdown",
   "metadata": {},
   "source": [
    "## 14: Accelerating Geospatial Searches with FAISS\n",
    "\n",
    "**Goal:** To demonstrate the utility of Facebook AI's Similarity Search (`faiss`) library for dramatically accelerating nearest-neighbor searches in a geospatial context. For large-scale problems, this is a critical optimization.\n",
    "\n",
    "**Methodology:**\n",
    "1.  **Create a Large-Scale Scenario:** Generate a large number of demand points (patients) and a hierarchical set of healthcare facilities.\n",
    "2.  **Benchmark Traditional Search:** Time a standard nearest-neighbor search using `scipy` or `sklearn` as a baseline.\n",
    "3.  **Implement FAISS:** Build a `faiss` index for the facility locations.\n",
    "4.  **Benchmark FAISS Search:** Run the same search using the `faiss` index and compare the execution time.\n",
    "5.  **Hierarchical FAISS Search:** Show how to build separate indexes for each facility type (GP, CDC, Acute) to enable efficient, targeted queries based on the required level of care."
   ]
  },
  {
   "cell_type": "markdown",
   "metadata": {},
   "source": [
    "### 1. Setup and Library Imports\n",
    "\n",
    "**Important:** This notebook requires `faiss-cpu`. Install it by running this command in your terminal (with your `spatial-ml-env` activated), and then **restart the Jupyter kernel**.\n",
    "\n",
    "```bash\n",
    "pip install faiss-cpu\n",
    "```"
   ]
  },
  {
   "cell_type": "code",
   "execution_count": null,
   "metadata": {},
   "outputs": [],
   "source": [
    "import pandas as pd\n",
    "import geopandas as gpd\n",
    "import numpy as np\n",
    "import faiss\n",
    "import time\n",
    "import matplotlib.pyplot as plt\n",
    "from shapely.geometry import Point\n",
    "from sklearn.neighbors import BallTree"
   ]
  },
  {
   "cell_type": "markdown",
   "metadata": {},
   "source": [
    "### 2. Create a Large-Scale Synthetic Dataset\n",
    "\n",
    "To showcase the speed of `faiss`, we need a non-trivial amount of data. We'll create 100,000 demand points."
   ]
  },
  {
   "cell_type": "code",
   "execution_count": null,
   "metadata": {},
   "outputs": [],
   "source": [
    "np.random.seed(42)\n",
    "\n",
    "# 1. Facilities (GP, CDC, Acute Hospital)\n",
    "facilities_data = []\n",
    "types = {'GP Practice': 20, 'CDC/Community': 5, 'Acute Hospital': 2}\n",
    "for f_type, count in types.items():\n",
    "    for i in range(count):\n",
    "        facilities_data.append({\n",
    "            'name': f'{f_type} {i+1}',\n",
    "            'type': f_type,\n",
    "            'geometry': Point(np.random.uniform(0, 100), np.random.uniform(0, 100))\n",
    "        })\n",
    "facilities_gdf = gpd.GeoDataFrame(facilities_data, crs=\"EPSG:32630\")\n",
    "\n",
    "# 2. Demand Points (Patients)\n",
    "num_demand_points = 100000\n",
    "demand_points_gdf = gpd.GeoDataFrame(\n",
    "    geometry=[Point(x, y) for x, y in zip(np.random.uniform(0, 100, num_demand_points), \n",
    "                                             np.random.uniform(0, 100, num_demand_points))],\n",
    "    crs=\"EPSG:32630\"\n",
    ")\n",
    "\n",
    "print(f\"Created {len(facilities_gdf)} facilities and {len(demand_points_gdf)} demand points.\")"
   ]
  },
  {
   "cell_type": "markdown",
   "metadata": {},
   "source": [
    "### 3. Benchmark: Traditional Nearest-Neighbor Search\n",
    "\n",
    "We use `sklearn.neighbors.BallTree`, a standard and efficient library for this task, as our baseline."
   ]
  },
  {
   "cell_type": "code",
   "execution_count": null,
   "metadata": {},
   "outputs": [],
   "source": [
    "start_time = time.time()\n",
    "\n",
    "# Prepare coordinate arrays\n",
    "facility_coords = np.array([pt.coords[0] for pt in facilities_gdf.geometry])\n",
    "demand_coords = np.array([pt.coords[0] for pt in demand_points_gdf.geometry])\n",
    "\n",
    "# Build the tree\n",
    "tree = BallTree(facility_coords)\n",
    "\n",
    "# Query the tree for the single nearest neighbor (k=1)\n",
    "distances, indices = tree.query(demand_coords, k=1)\n",
    "\n",
    "end_time = time.time()\n",
    "traditional_time = end_time - start_time\n",
    "\n",
    "print(f\"Traditional BallTree search took: {traditional_time:.4f} seconds\")"
   ]
  },
  {
   "cell_type": "markdown",
   "metadata": {},
   "source": [
    "### 4. Benchmark: FAISS Accelerated Search\n",
    "\n",
    "`faiss` requires a few steps: (1) Prepare data as a `float32` numpy array, (2) Build an index, (3) Add the facility vectors to the index, (4) Search."
   ]
  },
  {
   "cell_type": "code",
   "execution_count": null,
   "metadata": {},
   "outputs": [],
   "source": [
    "start_time = time.time()\n",
    "\n",
    "# Prepare coordinate arrays in the required float32 format\n",
    "facility_vectors = np.array([pt.coords[0] for pt in facilities_gdf.geometry]).astype('float32')\n",
    "demand_vectors = np.array([pt.coords[0] for pt in demand_points_gdf.geometry]).astype('float32')\n",
    "\n",
    "d = facility_vectors.shape[1]  # Dimension of the vectors (should be 2 for X,Y)\n",
    "\n",
    "# Build the index. IndexFlatL2 is a brute-force L2 distance search.\n",
    "index = faiss.IndexFlatL2(d)\n",
    "print(f\"FAISS index is trained: {index.is_trained}\")\n",
    "\n",
    "# Add the facility vectors to the index\n",
    "index.add(facility_vectors)\n",
    "print(f\"Total vectors in index: {index.ntotal}\")\n",
    "\n",
    "# Search for the 1 nearest neighbor (k=1)\n",
    "D, I = index.search(demand_vectors, k=1)\n",
    "\n",
    "end_time = time.time()\n",
    "faiss_time = end_time - start_time\n",
    "\n",
    "print(f\"\\nFAISS search took: {faiss_time:.4f} seconds\")\n",
    "print(f\"\\nSpeed-up: {traditional_time / faiss_time:.2f}x faster\")"
   ]
  },
  {
   "cell_type": "markdown",
   "metadata": {},
   "source": [
    "### 5. Hierarchical Search with FAISS\n",
    "\n",
    "A major advantage is the ability to create targeted indexes. If a patient needs an Acute Hospital, we should only search against that specific subset of facilities."
   ]
  },
  {
   "cell_type": "code",
   "execution_count": null,
   "metadata": {},
   "outputs": [],
   "source": [
    "# Create separate GeoDataFrames for each facility type\n",
    "gp_gdf = facilities_gdf[facilities_gdf['type'] == 'GP Practice']\n",
    "cdc_gdf = facilities_gdf[facilities_gdf['type'] == 'CDC/Community']\n",
    "acute_gdf = facilities_gdf[facilities_gdf['type'] == 'Acute Hospital']\n",
    "\n",
    "# --- Build an index for each type ---\n",
    "def build_index(gdf):\n",
    "    vectors = np.array([p.coords[0] for p in gdf.geometry]).astype('float32')\n",
    "    d = vectors.shape[1]\n",
    "    index = faiss.IndexFlatL2(d)\n",
    "    index.add(vectors)\n",
    "    return index\n",
    "\n",
    "index_gp = build_index(gp_gdf)\n",
    "index_cdc = build_index(cdc_gdf)\n",
    "index_acute = build_index(acute_gdf)\n",
    "\n",
    "print(f\"GP Index has {index_gp.ntotal} vectors.\")\n",
    "print(f\"CDC Index has {index_cdc.ntotal} vectors.\")\n",
    "print(f\"Acute Hospital Index has {index_acute.ntotal} vectors.\")\n",
    "\n",
    "# --- Scenario: Find the nearest Acute Hospital for the first 5 patients ---\n",
    "query_vectors = np.array([pt.coords[0] for pt in demand_points_gdf.head(5).geometry]).astype('float32')\n",
    "\n",
    "distances_to_acute, indices_in_acute_gdf = index_acute.search(query_vectors, k=1)\n",
    "\n",
    "# Get the actual name of the found hospital\n",
    "found_hospital_names = acute_gdf.iloc[indices_in_acute_gdf.flatten()]['name'].values\n",
    "\n",
    "for i in range(5):\n",
    "    print(f\"Patient {i} is closest to: {found_hospital_names[i]}\")"
   ]
  },
  {
   "cell_type": "markdown",
   "metadata": {},
   "source": [
    "### 6. Conclusion and Use Cases\n",
    "\n",
    "As demonstrated, `faiss` offers a massive performance improvement for nearest-neighbor searches, a foundational operation in spatial analysis.\n",
    "\n",
    "* **Key Advantage:** Speed at scale. While the setup is slightly more complex than a one-line `BallTree` query, the speed-up is essential when dealing with hundreds of thousands or millions of points.\n",
    "* **Hierarchical Planning:** Building targeted indexes for different facility types is a clean and highly efficient way to model tiered service systems.\n",
    "* **Practical Applications:**\n",
    "    - **Large-Scale Allocation Models:** In optimization problems that require calculating a full distance matrix (demand points x facilities), `faiss` can pre-calculate the `k` nearest candidates for each demand point, dramatically reducing the problem size.\n",
    "    - **Interactive Dashboards:** For any web-based tool or dashboard where a user can click a point and expect an instant result for the nearest facility, `faiss` is the ideal backend engine.\n",
    "    - **Data Enrichment:** When joining large datasets based on proximity, `faiss` can quickly find the nearest feature from one dataset for every feature in another."
   ]
  }
 ],
 "metadata": {
  "kernelspec": {
   "display_name": "Python 3",
   "language": "python",
   "name": "python3"
  },
  "language_info": {
   "codemirror_mode": {
    "name": "ipython",
    "version": 3
   },
   "file_extension": ".py",
   "mimetype": "text/x-python",
   "name": "python",
   "nbconvert_exporter": "python",
   "pygments_lexer": "ipython3",
   "version": "3.10.9"
  }
 },
 "nbformat": 4,
 "nbformat_minor": 4
}
