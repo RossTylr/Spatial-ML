{
 "cells": [
  {
   "cell_type": "markdown",
   "metadata": {},
   "source": [
    "## 09: Capacitated Facility Location Optimization with PuLP\n",
    "\n",
    "**Goal:** To move from heuristic site selection (like in notebook 01) to formal optimization. We will solve a classic operations research problem: the **Capacitated Facility Location Problem**.\n",
    "\n",
    "The problem answers the questions:\n",
    "* **Which** of our potential facilities should we open?\n",
    "* **How** should we assign demand from customers to these open facilities?\n",
    "\n",
    "All while respecting that each facility has a **maximum capacity** and that our goal is to **minimize total costs** (a combination of fixed opening costs and variable travel costs).\n",
    "\n",
    "We will use the `PuLP` library, a popular and intuitive linear programming tool in Python."
   ]
  },
  {
   "cell_type": "markdown",
   "metadata": {},
   "source": [
    "### 1. Setup and Library Imports\n",
    "\n",
    "You'll need to install PuLP: `pip install pulp`"
   ]
  },
  {
   "cell_type": "code",
   "execution_count": null,
   "metadata": {},
   "outputs": [],
   "source": [
    "import pandas as pd\n",
    "import geopandas as gpd\n",
    "import numpy as np\n",
    "import matplotlib.pyplot as plt\n",
    "from shapely.geometry import Point, LineString\n",
    "from pulp import LpProblem, LpMinimize, LpVariable, lpSum, LpBinary, value\n",
    "from scipy.spatial.distance import cdist"
   ]
  },
  {
   "cell_type": "markdown",
   "metadata": {},
   "source": [
    "### 2. Generate Synthetic Data\n",
    "\n",
    "We need three datasets for this problem:\n",
    "1.  A set of **customers** (or demand points), each with a certain level of demand.\n",
    "2.  A set of **potential facility sites**, each with a fixed cost to open and a maximum service capacity.\n",
    "3.  A **cost matrix** representing the travel cost from each customer to each facility (we'll use straight-line distance for this)."
   ]
  },
  {
   "cell_type": "code",
   "execution_count": null,
   "metadata": {},
   "outputs": [],
   "source": [
    "np.random.seed(42)\n",
    "\n",
    "# 1. Customers\n",
    "num_customers = 50\n",
    "customers = pd.DataFrame({\n",
    "    'id': range(num_customers),\n",
    "    'demand': np.random.randint(10, 50, size=num_customers),\n",
    "    'x': np.random.uniform(0, 100, size=num_customers),\n",
    "    'y': np.random.uniform(0, 100, size=num_customers)\n",
    "})\n",
    "\n",
    "# 2. Potential Facilities\n",
    "num_facilities = 10\n",
    "facilities = pd.DataFrame({\n",
    "    'id': range(num_facilities),\n",
    "    'capacity': np.random.randint(100, 300, size=num_facilities),\n",
    "    'opening_cost': np.random.randint(5000, 10000, size=num_facilities),\n",
    "    'x': np.random.uniform(10, 90, size=num_facilities),\n",
    "    'y': np.random.uniform(10, 90, size=num_facilities)\n",
    "})\n",
    "\n",
    "# 3. Travel Cost Matrix (distance)\n",
    "customer_coords = customers[['x', 'y']].values\n",
    "facility_coords = facilities[['x', 'y']].values\n",
    "travel_costs = cdist(customer_coords, facility_coords, 'euclidean')\n",
    "\n",
    "print(f\"Total demand: {customers.demand.sum()}\")\n",
    "print(f\"Total potential capacity: {facilities.capacity.sum()}\")"
   ]
  },
  {
   "cell_type": "markdown",
   "metadata": {},
   "source": [
    "### 3. Formulate the Optimization Problem with PuLP\n",
    "\n",
    "This involves defining our decision variables, objective function, and constraints."
   ]
  },
  {
   "cell_type": "code",
   "execution_count": null,
   "metadata": {},
   "outputs": [],
   "source": [
    "# Create the LP problem\n",
    "prob = LpProblem(\"FacilityLocation\", LpMinimize)\n",
    "\n",
    "# --- DECISION VARIABLES ---\n",
    "# x_ij: fraction of demand from customer i served by facility j\n",
    "assign_vars = LpVariable.dicts(\"Assign\", \n",
    "                               ((i, j) for i in customers.id for j in facilities.id), \n",
    "                               lowBound=0, upBound=1, cat='Continuous')\n",
    "\n",
    "# y_j: whether facility j is open (binary: 1 if open, 0 if closed)\n",
    "open_vars = LpVariable.dicts(\"Open\", facilities.id, cat=LpBinary)\n",
    "\n",
    "# --- OBJECTIVE FUNCTION ---\n",
    "# Minimize (total travel costs + total opening costs)\n",
    "total_travel_cost = lpSum(travel_costs[i][j] * assign_vars[(i, j)] * customers.demand[i]\n",
    "                          for i in customers.id for j in facilities.id)\n",
    "total_opening_cost = lpSum(facilities.opening_cost[j] * open_vars[j] for j in facilities.id)\n",
    "prob += total_travel_cost + total_opening_cost\n",
    "\n",
    "# --- CONSTRAINTS ---\n",
    "# Constraint 1: All customer demand must be met.\n",
    "for i in customers.id:\n",
    "    prob += lpSum(assign_vars[(i, j)] for j in facilities.id) == 1\n",
    "\n",
    "# Constraint 2: The demand assigned to a facility cannot exceed its capacity.\n",
    "for j in facilities.id:\n",
    "    prob += lpSum(assign_vars[(i, j)] * customers.demand[i] for i in customers.id) <= facilities.capacity[j] * open_vars[j]\n",
    "\n",
    "print(\"Optimization problem formulated.\")"
   ]
  },
  {
   "cell_type": "markdown",
   "metadata": {},
   "source": [
    "### 4. Solve the Problem"
   ]
  },
  {
   "cell_type": "code",
   "execution_count": null,
   "metadata": {},
   "outputs": [],
   "source": [
    "prob.solve()\n",
    "\n",
    "print(f\"Status: {LpStatus[prob.status]}\")\n",
    "print(f\"Optimal Total Cost: {value(prob.objective):,.2f}\")"
   ]
  },
  {
   "cell_type": "markdown",
   "metadata": {},
   "source": [
    "### 5. Visualize the Solution\n",
    "\n",
    "We'll extract the results to see which facilities were opened and which customers they serve."
   ]
  },
  {
   "cell_type": "code",
   "execution_count": null,
   "metadata": {},
   "outputs": [],
   "source": [
    "fig, ax = plt.subplots(figsize=(14, 10))\n",
    "\n",
    "# Plot customers\n",
    "ax.scatter(customers.x, customers.y, s=customers.demand, c='blue', alpha=0.6, label='Customers (size by demand)')\n",
    "\n",
    "# Plot facilities\n",
    "for j in facilities.id:\n",
    "    if open_vars[j].varValue > 0.9: # If facility is open\n",
    "        ax.scatter(facilities.x[j], facilities.y[j], marker='P', s=facilities.capacity[j], c='red', \n",
    "                   edgecolor='black', label=f'Open Facility {j}')\n",
    "    else:\n",
    "        ax.scatter(facilities.x[j], facilities.y[j], marker='P', s=facilities.capacity[j], c='gray', \n",
    "                   alpha=0.5, label=f'Closed Facility {j}')\n",
    "\n",
    "# Plot assignment lines\n",
    "for i in customers.id:\n",
    "    for j in facilities.id:\n",
    "        if assign_vars[(i,j)].varValue > 0.001:\n",
    "            ax.plot([customers.x[i], facilities.x[j]], [customers.y[i], facilities.y[j]], 'gray', linestyle='--', linewidth=0.5)\n",
    "\n",
    "plt.title('Optimal Facility Location Solution')\n",
    "# Create a clean legend\n",
    "handles, labels = plt.gca().get_legend_handles_labels()\n",
    "by_label = dict(zip(labels, handles))\n",
    "plt.legend(by_label.values(), by_label.keys(), title='Legend')\n",
    "plt.xlabel('X-Coordinate')\n",
    "plt.ylabel('Y-Coordinate')\n",
    "plt.show()\n",
    "\n",
    "# Discussion:\n",
    "# - The model has chosen a subset of the potential sites to open (red markers), leaving the others closed (gray markers).\n",
    "# - It has optimally assigned each customer to an open facility, ensuring that no facility's capacity is exceeded and that total costs are minimized.\n",
    "# - This formal optimization approach provides a mathematically provable best solution given the inputs, making it far more powerful than simple heuristics for high-stakes location decisions."
   ]
  }
 ],
 "metadata": {
  "kernelspec": {
   "display_name": "Python 3",
   "language": "python",
   "name": "python3"
  },
  "language_info": {
   "codemirror_mode": {
    "name": "ipython",
    "version": 3
   },
   "file_extension": ".py",
   "mimetype": "text/x-python",
   "name": "python",
   "nbconvert_exporter": "python",
   "pygments_lexer": "ipython3",
   "version": "3.10.9"
  }
 },
 "nbformat": 4,
 "nbformat_minor": 4
}
