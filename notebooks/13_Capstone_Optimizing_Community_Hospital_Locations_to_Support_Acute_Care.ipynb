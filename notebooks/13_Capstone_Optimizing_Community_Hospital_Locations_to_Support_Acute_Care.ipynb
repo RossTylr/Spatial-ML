{
 "cells": [
  {
   "cell_type": "markdown",
   "metadata": {},
   "source": [
    "## 13: Capstone - Optimizing Community Hospital Locations to Support Acute Care\n",
    "\n",
    "**Goal:** To use formal optimization to find the best locations for new mid-tier facilities (Community Hospitals/CDCs) to specifically address strategic gaps in the healthcare network and reduce the accessibility burden on top-tier Acute Hospitals.\n",
    "\n",
    "**Methodology:**\n",
    "We will solve a **Location-Set Coverage Problem (LSCP)**, a classic optimization model.\n",
    "1.  **Identify Strategic Gaps:** Use the Hierarchical 2SFCA results from notebook 12 to find residential areas (LSOAs) that are underserved for mid-tier care.\n",
    "2.  **Define Candidate Sites:** Create a grid of potential locations for new Community Hospitals.\n",
    "3.  **Build Coverage Matrix:** Determine which candidate sites can cover which underserved LSOAs.\n",
    "4.  **Formulate & Solve with PuLP:** Use the `PuLP` library to find the `k` new sites that cover the maximum population in the identified gaps."
   ]
  },
  {
   "cell_type": "markdown",
   "metadata": {},
   "source": [
    "### 1. Setup and Library Imports"
   ]
  },
  {
   "cell_type": "code",
   "execution_count": null,
   "metadata": {},
   "outputs": [],
   "source": [
    "import pandas as pd\n",
    "import geopandas as gpd\n",
    "import numpy as np\n",
    "import osmnx as ox\n",
    "import matplotlib.pyplot as plt\n",
    "from shapely.geometry import Point, box\n",
    "import contextily as cx\n",
    "from pulp import LpProblem, LpMaximize, LpVariable, lpSum, LpBinary, value"
   ]
  },
  {
   "cell_type": "markdown",
   "metadata": {},
   "source": [
    "### 2. Load Data and Identify Service Gaps\n",
    "\n",
    "We will load the results from notebook 12. For this capstone, we'll need to re-run the accessibility analysis to have the data available. We then define an accessibility 'poverty line' to identify underserved LSOAs."
   ]
  },
  {
   "cell_type": "code",
   "execution_count": null,
   "metadata": {},
   "outputs": [],
   "source": [
    "# Reusing data setup from Notebook 12\n",
    "facilities_data = {\n",
    "    'Royal Devon and Exeter (Acute)': [-3.503, 50.713, 3, 50],\n",
    "    'Exeter Community Hospital': [-3.518, 50.718, 2, 20],\n",
    "    'Heavitree Hospital (CDC)': [-3.495, 50.720, 2, 25],\n",
    "    'St. Thomas Medical Group (GP)': [-3.542, 50.717, 1, 5],\n",
    "    'Pinhoe & Broadclyst Medical (GP)': [-3.475, 50.741, 1, 6]\n",
    "}\n",
    "df = pd.DataFrame.from_dict(facilities_data, orient='index', columns=['lon', 'lat', 'tier', 'capacity'])\n",
    "facilities_gdf = gpd.GeoDataFrame(df, geometry=gpd.points_from_xy(df.lon, df.lat), crs=\"EPSG:4326\")\n",
    "xmin, ymin, xmax, ymax = -3.58, 50.68, -3.42, 50.78\n",
    "grid_cells = []\n",
    "for i, x in enumerate(np.linspace(xmin, xmax, 15)):\n",
    "    for j, y in enumerate(np.linspace(ymin, ymax, 15)):\n",
    "        grid_cells.append(box(x, y, x + (xmax-xmin)/15, y + (ymax-ymin)/15))\n",
    "lsoa_gdf = gpd.GeoDataFrame(geometry=grid_cells, crs=\"EPSG:4326\")\n",
    "lsoa_gdf['LSOA_ID'] = range(len(lsoa_gdf))\n",
    "np.random.seed(42)\n",
    "lsoa_gdf['population'] = np.random.randint(1500, 2500, size=len(lsoa_gdf))\n",
    "demand_points = lsoa_gdf.copy()\n",
    "demand_points['geometry'] = demand_points.centroid\n",
    "G = ox.graph_from_place(\"Exeter, England\", network_type='drive')\n",
    "\n",
    "# Assume run_2sfca function from notebook 12 is available\n",
    "# For simplicity, we will simulate the result here\n",
    "from sklearn.preprocessing import minmax_scale\n",
    "lsoa_gdf['access_community'] = minmax_scale(lsoa_gdf.centroid.x) + np.random.rand(len(lsoa_gdf)) * 0.1\n",
    "\n",
    "# Identify underserved LSOAs (e.g., the bottom 25% of accessibility)\n",
    "poverty_line = lsoa_gdf['access_community'].quantile(0.25)\n",
    "underserved_lsoas = lsoa_gdf[lsoa_gdf['access_community'] <= poverty_line].copy()\n",
    "\n",
    "# Define Candidate Sites for new Community Hospitals\n",
    "c_xmin, c_ymin, c_xmax, c_ymax = underserved_lsoas.total_bounds\n",
    "xx, yy = np.meshgrid(np.linspace(c_xmin, c_xmax, 8), np.linspace(c_ymin, c_ymax, 8))\n",
    "candidate_sites = gpd.GeoDataFrame(\n",
    "    geometry=[Point(x, y) for x, y in zip(xx.ravel(), yy.ravel())],\n",
    "    crs=\"EPSG:4326\"\n",
    ")\n",
    "candidate_sites['cand_id'] = range(len(candidate_sites))"
   ]
  },
  {
   "cell_type": "markdown",
   "metadata": {},
   "source": [
    "### 3. Build Coverage Matrix and Formulate Optimization Problem"
   ]
  },
  {
   "cell_type": "code",
   "execution_count": null,
   "metadata": {},
   "outputs": [],
   "source": [
    "# --- Build Coverage Matrix ---\n",
    "# A matrix where cell (i, j) is 1 if candidate j can cover demand point i, else 0\n",
    "travel_time_min = 20 # 20-minute peak hour drive\n",
    "coverage = {}\n",
    "for c_idx, cand in candidate_sites.iterrows():\n",
    "    center_node = ox.nearest_nodes(G, cand.geometry.x, cand.geometry.y)\n",
    "    isochrone = ox.isochrone_polygons(G, center_node, trip_times=[travel_time_min], edge_attack=True)\n",
    "    lsoas_in_iso = underserved_lsoas[underserved_lsoas.centroid.within(isochrone.iloc[0].geometry)]\n",
    "    for lsoa_id in lsoas_in_iso['LSOA_ID']:\n",
    "        coverage[(lsoa_id, c_idx)] = 1\n",
    "\n",
    "# --- Formulate PuLP Problem ---\n",
    "prob = LpProblem(\"OptimizeCommunityHospitals\", LpMaximize)\n",
    "k = 3 # Number of new facilities to build\n",
    "\n",
    "# Variables\n",
    "y = LpVariable.dicts(\"is_covered\", underserved_lsoas['LSOA_ID'], cat=LpBinary)\n",
    "x = LpVariable.dicts(\"is_selected\", candidate_sites['cand_id'], cat=LpBinary)\n",
    "\n",
    "# Objective Function: Maximize total population covered\n",
    "prob += lpSum(y[i] * underserved_lsoas.set_index('LSOA_ID').loc[i, 'population'] for i in underserved_lsoas['LSOA_ID'])\n",
    "\n",
    "# Constraints\n",
    "prob += lpSum(x[j] for j in candidate_sites['cand_id']) == k # Select exactly k sites\n",
    "for i in underserved_lsoas['LSOA_ID']:\n",
    "    prob += y[i] <= lpSum(coverage.get((i, j), 0) * x[j] for j in candidate_sites['cand_id'])\n",
    "\n",
    "print(\"Optimization problem formulated.\")"
   ]
  },
  {
   "cell_type": "markdown",
   "metadata": {},
   "source": [
    "### 4. Solve and Visualize the Optimal Solution"
   ]
  },
  {
   "cell_type": "code",
   "execution_count": null,
   "metadata": {},
   "outputs": [],
   "source": [
    "prob.solve()\n",
    "print(f\"Status: {LpStatus[prob.status]}\")\n",
    "\n",
    "selected_sites_indices = [j for j in candidate_sites['cand_id'] if x[j].varValue > 0.9]\n",
    "optimal_sites = candidate_sites[candidate_sites['cand_id'].isin(selected_sites_indices)]\n",
    "\n",
    "# --- Visualization ---\n",
    "fig, ax = plt.subplots(figsize=(15, 12))\n",
    "lsoa_plot = lsoa_gdf.to_crs(epsg=3857)\n",
    "underserved_plot = underserved_lsoas.to_crs(epsg=3857)\n",
    "optimal_sites_plot = optimal_sites.to_crs(epsg=3857)\n",
    "existing_fac_plot = facilities_gdf.to_crs(epsg=3857)\n",
    "\n",
    "lsoa_plot.plot(ax=ax, color='lightgray', edgecolor='white')\n",
    "underserved_plot.plot(ax=ax, color='lightcoral', edgecolor='white', label='Underserved Areas')\n",
    "existing_fac_plot.plot(ax=ax, marker='P', color='blue', markersize=150, edgecolor='black', label='Existing Facilities')\n",
    "optimal_sites_plot.plot(ax=ax, marker='*', color='gold', markersize=500, edgecolor='black', label='Optimal New Sites')\n",
    "\n",
    "cx.add_basemap(ax, crs=lsoa_plot.crs.to_string(), source=cx.providers.CartoDB.Positron)\n",
    "ax.set_title('Optimal Locations for New Community Hospitals to Cover Gaps')\n",
    "ax.set_axis_off()\n",
    "ax.legend()\n",
    "plt.show()"
   ]
  },
  {
   "cell_type": "markdown",
   "metadata": {},
   "source": [
    "### 5. Analysis and Conclusion\n",
    "\n",
    "This capstone notebook provides a powerful, data-driven approach to strategic planning.\n",
    "\n",
    "- **From Analysis to Prescription:** We moved from *analyzing* existing problems (identifying underserved areas in notebook 12) to *prescribing* an optimal solution.\n",
    "- **Targeted Investment:** Instead of placing facilities based on intuition, the LSCP model identifies the exact locations that provide the maximum benefit for the minimum cost (in this case, maximizing population coverage for a fixed number of new sites).\n",
    "- **System-Wide Improvement:** The model's recommendations are designed to strengthen the healthcare system as a whole. By placing new Community Hospitals strategically, we not only improve mid-tier care but also relieve pressure on Acute Hospitals, allowing them to focus on more critical cases.\n",
    "\n",
    "This workflow represents a comprehensive approach to spatial planning, integrating data analysis, accessibility modeling, and formal optimization to make robust, evidence-based decisions."
   ]
  },
  {
   "cell_type": "markdown",
   "metadata": {},
   "source": [
    "### 6. References and Further Reading\n",
    "\n",
    "- **Toregas, C., Swain, R., ReVelle, C., & Bergman, L. (1971).** *The location-set covering problem*. Geographical Analysis, 3(4), 321-336. A foundational paper on the LSCP model.\n",
    "- **Zhao, Y., & Zhou, Y. (2024).** *Isochrone-Based Accessibility Analysis of Pre-Hospital Emergency Medical Facilities*. ISPRS Int. J. Geo-Inf. This paper's focus on identifying and addressing service gaps through strategic planning is the direct inspiration for this capstone project.\n",
    "- **PuLP Documentation:** For more details on formulating and solving linear programming problems in Python."
   ]
  }
 ],
 "metadata": {
  "kernelspec": {
   "display_name": "Python 3",
   "language": "python",
   "name": "python3"
  },
  "language_info": {
   "codemirror_mode": {
    "name": "ipython",
    "version": 3
   },
   "file_extension": ".py",
   "mimetype": "text/x-python",
   "name": "python",
   "nbconvert_exporter": "python",
   "pygments_lexer": "ipython3",
   "version": "3.10.9"
  }
 },
 "nbformat": 4,
 "nbformat_minor": 4
}
