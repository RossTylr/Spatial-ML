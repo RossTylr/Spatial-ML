{
 "cells": [
  {
   "cell_type": "markdown",
   "metadata": {},
   "source": [
    "## 05: Health Facility Hierarchy and Capability Modelling\n",
    "\n",
    "**Goal:** To move beyond simple proximity analysis by modelling a more realistic scenario where facilities have different capabilities. In the real world, not all facilities can handle all types of demand (e.g., you wouldn't go to a GP surgery for a major car accident).\n",
    "\n",
    "This notebook demonstrates how to:\n",
    "1.  Create a synthetic dataset of health facilities with different types (e.g., GP, Clinic, Hospital).\n",
    "2.  Assign capabilities or service levels to each facility type.\n",
    "3.  Model a patient allocation scenario where a patient must be sent to the **nearest appropriate** facility that can handle their required level of care."
   ]
  },
  {
   "cell_type": "markdown",
   "metadata": {},
   "source": [
    "### 1. Setup and Library Imports"
   ]
  },
  {
   "cell_type": "code",
   "execution_count": null,
   "metadata": {},
   "outputs": [],
   "source": [
    "import pandas as pd\n",
    "import geopandas as gpd\n",
    "import numpy as np\n",
    "import matplotlib.pyplot as plt\n",
    "from shapely.geometry import Point, LineString\n",
    "from sklearn.neighbors import BallTree\n",
    "import contextily as cx"
   ]
  },
  {
   "cell_type": "markdown",
   "metadata": {},
   "source": [
    "### 2. Create Synthetic Datasets\n",
    "\n",
    "We'll create two datasets:\n",
    "* A set of health facilities with different types.\n",
    "* A set of random \"incidents\" or patients, each requiring a specific level of care."
   ]
  },
  {
   "cell_type": "code",
   "execution_count": null,
   "metadata": {},
   "outputs": [],
   "source": [
    "# Define facility types and their capabilities (care level they can handle)\n",
    "facility_capabilities = {\n",
    "    'GP Surgery': 1,\n",
    "    'Minor Injuries Clinic': 2,\n",
    "    'Regional Hospital': 3\n",
    "}\n",
    "\n",
    "# Create synthetic facilities\n",
    "np.random.seed(42)\n",
    "facilities_data = []\n",
    "for i in range(15):\n",
    "    facility_type = np.random.choice(list(facility_capabilities.keys()), p=[0.6, 0.3, 0.1])\n",
    "    facilities_data.append({\n",
    "        'name': f'{facility_type} {i+1}',\n",
    "        'type': facility_type,\n",
    "        'capability': facility_capabilities[facility_type],\n",
    "        'geometry': Point(np.random.uniform(0, 100), np.random.uniform(0, 100))\n",
    "    })\n",
    "facilities_gdf = gpd.GeoDataFrame(facilities_data, crs=\"EPSG:32630\")\n",
    "\n",
    "# Create synthetic incidents\n",
    "incidents_data = []\n",
    "for i in range(5):\n",
    "    care_level_needed = np.random.randint(1, 4) # Required care level from 1 to 3\n",
    "    incidents_data.append({\n",
    "        'incident_id': f'Patient {i+1}',\n",
    "        'care_level_needed': care_level_needed,\n",
    "        'geometry': Point(np.random.uniform(20, 80), np.random.uniform(20, 80))\n",
    "    })\n",
    "incidents_gdf = gpd.GeoDataFrame(incidents_data, crs=\"EPSG:32630\")\n",
    "\n",
    "print(\"Facilities and incidents created.\")"
   ]
  },
  {
   "cell_type": "markdown",
   "metadata": {},
   "source": [
    "### 3. Visualize the Initial Setup"
   ]
  },
  {
   "cell_type": "code",
   "execution_count": null,
   "metadata": {},
   "outputs": [],
   "source": [
    "fig, ax = plt.subplots(figsize=(12, 10))\n",
    "\n",
    "# Plot facilities by type\n",
    "type_colors = {'GP Surgery': 'green', 'Minor Injuries Clinic': 'orange', 'Regional Hospital': 'red'}\n",
    "for f_type, color in type_colors.items():\n",
    "    facilities_gdf[facilities_gdf['type'] == f_type].plot(\n",
    "        ax=ax, color=color, marker='P', markersize=200, label=f_type, edgecolor='black'\n",
    "    )\n",
    "\n",
    "# Plot incidents by care level needed\n",
    "incident_colors = {1: 'cyan', 2: 'magenta', 3: '#DAF7A6'}\n",
    "for level, color in incident_colors.items():\n",
    "    subset = incidents_gdf[incidents_gdf['care_level_needed'] == level]\n",
    "    if not subset.empty:\n",
    "        subset.plot(\n",
    "            ax=ax, marker='*', color=color, markersize=300, label=f'Incident (Care Level {level})',\n",
    "            edgecolor='black'\n",
    "        )\n",
    "\n",
    "ax.set_title('Initial Setup: Facilities and Incidents')\n",
    "ax.set_xticks([])\n",
    "ax.set_yticks([])\n",
    "ax.legend(loc='upper right')\n",
    "plt.show()"
   ]
  },
  {
   "cell_type": "markdown",
   "metadata": {},
   "source": [
    "### 4. Allocation Logic: Find Nearest *Appropriate* Facility\n",
    "\n",
    "For each incident, we will first filter the facilities to include only those that meet or exceed the required care level. Then, from that filtered list, we will find the geographically nearest one."
   ]
  },
  {
   "cell_type": "code",
   "execution_count": null,
   "metadata": {},
   "outputs": [],
   "source": [
    "allocation_lines = []\n",
    "\n",
    "for idx, incident in incidents_gdf.iterrows():\n",
    "    # Filter facilities that have the required capability\n",
    "    capable_facilities = facilities_gdf[facilities_gdf['capability'] >= incident['care_level_needed']]\n",
    "    \n",
    "    if capable_facilities.empty:\n",
    "        print(f\"No facility found for {incident['incident_id']} requiring care level {incident['care_level_needed']}\")\n",
    "        continue\n",
    "    \n",
    "    # Find the nearest facility among the capable ones\n",
    "    capable_coords = np.array([pt.coords[0] for pt in capable_facilities.geometry])\n",
    "    incident_coord = np.array(incident.geometry.coords[0]).reshape(1, -1)\n",
    "    \n",
    "    # Use BallTree for efficient nearest neighbor search on projected coordinates\n",
    "    tree = BallTree(capable_coords)\n",
    "    dist, ind = tree.query(incident_coord, k=1)\n",
    "    \n",
    "    # Get the original index from the filtered dataframe\n",
    "    nearest_facility_original_idx = capable_facilities.index[ind[0][0]]\n",
    "    nearest_facility = facilities_gdf.loc[nearest_facility_original_idx]\n",
    "    \n",
    "    # Create a line for visualization\n",
    "    line = LineString([incident.geometry, nearest_facility.geometry])\n",
    "    allocation_lines.append({\n",
    "        'incident_id': incident['incident_id'],\n",
    "        'allocated_to': nearest_facility['name'],\n",
    "        'geometry': line\n",
    "    })\n",
    "\n",
    "allocations_gdf = gpd.GeoDataFrame(allocation_lines, crs=\"EPSG:32630\")\n",
    "\n",
    "print(\"Allocation complete.\")\n",
    "print(allocations_gdf[['incident_id', 'allocated_to']])"
   ]
  },
  {
   "cell_type": "markdown",
   "metadata": {},
   "source": [
    "### 5. Visualize the Final Allocation\n",
    "\n",
    "Let's plot the results, drawing lines from each incident to its assigned facility."
   ]
  },
  {
   "cell_type": "code",
   "execution_count": null,
   "metadata": {},
   "outputs": [],
   "source": [
    "fig, ax = plt.subplots(figsize=(12, 10))\n",
    "\n",
    "# Plot allocation lines\n",
    "allocations_gdf.plot(ax=ax, color='gray', linestyle='--', linewidth=2, label='Allocation')\n",
    "\n",
    "# Plot facilities by type\n",
    "for f_type, color in type_colors.items():\n",
    "    facilities_gdf[facilities_gdf['type'] == f_type].plot(\n",
    "        ax=ax, color=color, marker='P', markersize=200, label=f_type, edgecolor='black'\n",
    "    )\n",
    "\n",
    "# Plot incidents by care level needed\n",
    "for level, color in incident_colors.items():\n",
    "    subset = incidents_gdf[incidents_gdf['care_level_needed'] == level]\n",
    "    if not subset.empty:\n",
    "        subset.plot(\n",
    "            ax=ax, marker='*', color=color, markersize=300, label=f'Incident (Care Level {level})',\n",
    "            edgecolor='black'\n",
    "        )\n",
    "\n",
    "ax.set_title('Hierarchical Facility Allocation')\n",
    "ax.set_xticks([])\n",
    "ax.set_yticks([])\n",
    "ax.legend(loc='upper right')\n",
    "plt.show()\n",
    "\n",
    "# Discussion:\n",
    "# - Notice how incidents are not always assigned to the absolute closest facility. For instance, a high-level incident (e.g., Level 3) might bypass a nearby GP Surgery to go to a farther Regional Hospital.\n",
    "# - This hierarchical approach is a critical step towards more realistic location-allocation modeling and is essential for planning services like healthcare, emergency response, and tiered retail."
   ]
  }
 ],
 "metadata": {
  "kernelspec": {
   "display_name": "Python 3",
   "language": "python",
   "name": "python3"
  },
  "language_info": {
   "codemirror_mode": {
    "name": "ipython",
    "version": 3
   },
   "file_extension": ".py",
   "mimetype": "text/x-python",
   "name": "python",
   "nbconvert_exporter": "python",
   "pygments_lexer": "ipython3",
   "version": "3.10.9"
  }
 },
 "nbformat": 4,
 "nbformat_minor": 4
}
